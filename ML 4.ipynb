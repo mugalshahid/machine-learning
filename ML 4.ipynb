{
 "cells": [
  {
   "cell_type": "code",
   "execution_count": null,
   "id": "a0b207cb-f807-4768-be82-a100370ffd23",
   "metadata": {},
   "outputs": [],
   "source": [
    "# Function transformer -->\n",
    "# dataset ==> custom operation apply ----> use function \n",
    "\n",
    "# Function transformer ---> object create ---> as an argument function(pre-defined or custom)\n",
    "# logic ---> apply dataset"
   ]
  },
  {
   "cell_type": "code",
   "execution_count": 1,
   "id": "a4e0718b-85c8-4b9c-98b3-73ba47ecd460",
   "metadata": {},
   "outputs": [],
   "source": [
    "from sklearn.preprocessing import FunctionTransformer\n",
    "import numpy as np"
   ]
  },
  {
   "cell_type": "code",
   "execution_count": 2,
   "id": "ca228734-d30b-4cd6-b064-94a2414261d6",
   "metadata": {},
   "outputs": [
    {
     "name": "stdout",
     "output_type": "stream",
     "text": [
      "[[1 2]\n",
      " [3 4]]\n",
      "[[0.69314718 1.09861229]\n",
      " [1.38629436 1.60943791]]\n"
     ]
    }
   ],
   "source": [
    "# create a dataset\n",
    "x = np.array([[1,2] , [3,4]])\n",
    "print(x)\n",
    "\n",
    "# define the transformation function\n",
    "log_transform = FunctionTransformer(np.log1p)\n",
    "\n",
    "# apply the transform to the dataset\n",
    "x_transformed = log_transform.transform(x)\n",
    "\n",
    "# view the transformed data \n",
    "print(x_transformed)"
   ]
  },
  {
   "cell_type": "code",
   "execution_count": 3,
   "id": "3eb30178-d9b7-4343-8074-c3423e5515c7",
   "metadata": {},
   "outputs": [
    {
     "name": "stdout",
     "output_type": "stream",
     "text": [
      "[[1 2]\n",
      " [3 4]]\n",
      "[[ 1  2  1  4]\n",
      " [ 3  4  9 16]]\n"
     ]
    }
   ],
   "source": [
    "X = np.array([[1,2] , [3,4]])\n",
    "print(X)\n",
    "\n",
    "# define a custom feature engineering function \n",
    "def squ(X):\n",
    "    return np.hstack((X , X**2))\n",
    "\n",
    "# create a FunctionTransformer to apply the custom function\n",
    "custom_transformer = FunctionTransformer(squ)\n",
    "\n",
    "# apply the transformer to the input data\n",
    "X_transformed = custom_transformer.transform(X)\n",
    "\n",
    "# view the transformed data \n",
    "print(X_transformed)"
   ]
  },
  {
   "cell_type": "code",
   "execution_count": 4,
   "id": "8e98240b-d23d-4d57-91e9-66e5635fd942",
   "metadata": {},
   "outputs": [
    {
     "name": "stdout",
     "output_type": "stream",
     "text": [
      "[[0.25 0.5 ]\n",
      " [0.75 1.  ]]\n"
     ]
    }
   ],
   "source": [
    "x = np.array([[1,2],[3,4]])\n",
    "\n",
    "# define a custom scaling function\n",
    "def my_scaling(x):\n",
    "    return x / np.max(x)\n",
    "\n",
    "# create a FunctionTransformer to apply the custom function \n",
    "custom_transformer = FunctionTransformer(my_scaling)\n",
    "\n",
    "# apply the transformer to te input data\n",
    "x_transformed = custom_transformer.transform(x)\n",
    "\n",
    "# view the transformed data\n",
    "print(x_transformed)"
   ]
  },
  {
   "cell_type": "code",
   "execution_count": 5,
   "id": "670e4552-f71d-448d-9d59-0bb669052e46",
   "metadata": {},
   "outputs": [],
   "source": [
    "# Pipeline --> container steps of process but sequentially \n",
    "\n",
    "# column transformer --> 1 step output will not the 2 step input \n",
    "# Pipline ---> output of 1 step will be input of second step\n",
    "# data ---> x,y ---> categorical data[] ---> encoding ---> normal distribution , normerical data[] ---> data"
   ]
  },
  {
   "cell_type": "code",
   "execution_count": 6,
   "id": "74a4d1bf-cc8d-4d60-9d8b-60bb20da6f2d",
   "metadata": {},
   "outputs": [],
   "source": [
    "import numpy as np \n",
    "import pandas as pd"
   ]
  },
  {
   "cell_type": "code",
   "execution_count": 7,
   "id": "777f50f3-4bb9-44fa-93d8-57673b2b7f3e",
   "metadata": {},
   "outputs": [],
   "source": [
    "df = pd.read_csv(\"covid_toy - covid_toy.csv\")"
   ]
  },
  {
   "cell_type": "code",
   "execution_count": 8,
   "id": "8e3678ef-ca9e-4b6c-a21e-27bc768043f1",
   "metadata": {},
   "outputs": [
    {
     "data": {
      "text/html": [
       "<div>\n",
       "<style scoped>\n",
       "    .dataframe tbody tr th:only-of-type {\n",
       "        vertical-align: middle;\n",
       "    }\n",
       "\n",
       "    .dataframe tbody tr th {\n",
       "        vertical-align: top;\n",
       "    }\n",
       "\n",
       "    .dataframe thead th {\n",
       "        text-align: right;\n",
       "    }\n",
       "</style>\n",
       "<table border=\"1\" class=\"dataframe\">\n",
       "  <thead>\n",
       "    <tr style=\"text-align: right;\">\n",
       "      <th></th>\n",
       "      <th>age</th>\n",
       "      <th>gender</th>\n",
       "      <th>fever</th>\n",
       "      <th>cough</th>\n",
       "      <th>city</th>\n",
       "      <th>has_covid</th>\n",
       "    </tr>\n",
       "  </thead>\n",
       "  <tbody>\n",
       "    <tr>\n",
       "      <th>0</th>\n",
       "      <td>60</td>\n",
       "      <td>Male</td>\n",
       "      <td>103.0</td>\n",
       "      <td>Mild</td>\n",
       "      <td>Kolkata</td>\n",
       "      <td>No</td>\n",
       "    </tr>\n",
       "    <tr>\n",
       "      <th>1</th>\n",
       "      <td>27</td>\n",
       "      <td>Male</td>\n",
       "      <td>100.0</td>\n",
       "      <td>Mild</td>\n",
       "      <td>Delhi</td>\n",
       "      <td>Yes</td>\n",
       "    </tr>\n",
       "  </tbody>\n",
       "</table>\n",
       "</div>"
      ],
      "text/plain": [
       "   age gender  fever cough     city has_covid\n",
       "0   60   Male  103.0  Mild  Kolkata        No\n",
       "1   27   Male  100.0  Mild    Delhi       Yes"
      ]
     },
     "execution_count": 8,
     "metadata": {},
     "output_type": "execute_result"
    }
   ],
   "source": [
    "df.head(2)"
   ]
  },
  {
   "cell_type": "code",
   "execution_count": 11,
   "id": "ef93bc1b-2c6e-4ec8-9e8b-d73423caa601",
   "metadata": {},
   "outputs": [],
   "source": [
    "from sklearn.compose import ColumnTransformer\n",
    "from sklearn.pipeline import Pipeline\n",
    "from sklearn.impute import SimpleImputer\n",
    "from sklearn.preprocessing import StandardScaler , OneHotEncoder\n",
    "from sklearn.linear_model import LogisticRegression\n",
    "from sklearn.model_selection import train_test_split"
   ]
  },
  {
   "cell_type": "code",
   "execution_count": 14,
   "id": "ef1f7913-0fbe-428e-8274-5601b20f58e7",
   "metadata": {},
   "outputs": [],
   "source": [
    "x = df.drop(columns = ['has_covid'])\n",
    "y = df['has_covid']\n",
    "\n",
    "x_train, x_test, y_train, y_test = train_test_split(x,y,test_size=0.2,random_state=42)"
   ]
  },
  {
   "cell_type": "code",
   "execution_count": 15,
   "id": "fe07e291-9ed5-40a3-8afd-cda9e85dba0b",
   "metadata": {},
   "outputs": [],
   "source": [
    "# define the columns that need to be preprocessed\n",
    "categorical_features = ['gender','city']\n",
    "numeric_features = ['age','fever']"
   ]
  },
  {
   "cell_type": "code",
   "execution_count": 18,
   "id": "5b42d5cc-079e-4887-a74c-848972d361f8",
   "metadata": {},
   "outputs": [],
   "source": [
    "# create transformer\n",
    "numeric_transformer = Pipeline(steps=[\n",
    "    ('imputer', SimpleImputer(strategy='mean')),\n",
    "    ('scaler',StandardScaler())])\n",
    "\n",
    "categorical_transformer = Pipeline(steps=[\n",
    "    ('imputer',SimpleImputer(strategy='most_frequent')),\n",
    "    ('onehot',OneHotEncoder(handle_unknown='ignore'))\n",
    "])\n",
    "# combine transformer\n",
    "preprocessor = ColumnTransformer(\n",
    "    transformers=[\n",
    "        ('num', numeric_transformer, numeric_features),\n",
    "        ('cat', categorical_transformer, categorical_features)])\n",
    "\n",
    "# create a pipeline\n",
    "clf = Pipeline(steps=[('preprocessor', preprocessor),\n",
    "                      ('classifier', LogisticRegression())])\n",
    "\n",
    "# train the model\n",
    "clf.fit(x_train, y_train)\n",
    "\n",
    "# evalute the model\n",
    "y_pred = clf.predict(x_test)"
   ]
  },
  {
   "cell_type": "code",
   "execution_count": null,
   "id": "6ff8ba94-d448-458d-92f7-1df68e63da27",
   "metadata": {},
   "outputs": [],
   "source": [
    "fr"
   ]
  }
 ],
 "metadata": {
  "kernelspec": {
   "display_name": "Python 3 (ipykernel)",
   "language": "python",
   "name": "python3"
  },
  "language_info": {
   "codemirror_mode": {
    "name": "ipython",
    "version": 3
   },
   "file_extension": ".py",
   "mimetype": "text/x-python",
   "name": "python",
   "nbconvert_exporter": "python",
   "pygments_lexer": "ipython3",
   "version": "3.13.3"
  }
 },
 "nbformat": 4,
 "nbformat_minor": 5
}
