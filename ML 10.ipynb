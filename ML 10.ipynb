{
 "cells": [
  {
   "cell_type": "markdown",
   "id": "bac53e15-c0e7-4565-bef1-ea1e3865ec5c",
   "metadata": {},
   "source": [
    "# Naivevias classification\n",
    "\n",
    "this is a supervised ml algo. that says our input features are independent and it is associated by bayes theorem"
   ]
  },
  {
   "cell_type": "markdown",
   "id": "15cc9074-8074-40fa-9308-84dfb866275c",
   "metadata": {},
   "source": [
    "# EX ---> \n",
    "e-mailid       test                  label\n",
    " 1            free win               spam\n",
    " 2            win money now           spam\n",
    " 3            meeting at noon        not spam\n",
    " 4            project meeting now    not spam"
   ]
  },
  {
   "cell_type": "markdown",
   "id": "b34849bf-161b-4aea-9684-62385e7b21f6",
   "metadata": {},
   "source": [
    "# now \n",
    "  V = free, win,money,now,meeting,at,room,project\n",
    "Total unique words = 8\n",
    "\n",
    " free money now ----> spam  /  not spam\n",
    "  total = 4\n",
    "\n",
    "  s(spam) = 2/4 = 0.5\n",
    "  p(not spam) = 2/4 = 0.5\n",
    " \n",
    "  spam ---->free = 1\n",
    "           >win = 2\n",
    "           >money = 1\n",
    "           >now = 1\n",
    "\n",
    " not spam ---->meeting = 2\n",
    "              >at = 1\n",
    "              >noon = 1\n",
    "              >project = 1\n",
    "              >now = 1\n",
    "              \n",
    "Probablility of word divide by class \n",
    " p(word/class) = (count* wordinclass + 1)/total wordinclass + unique word"
   ]
  },
  {
   "cell_type": "code",
   "execution_count": 2,
   "id": "2867d667-3e3f-45b4-b697-545f989bba01",
   "metadata": {},
   "outputs": [],
   "source": [
    "from sklearn.feature_extraction.text import CountVectorizer\n",
    "from sklearn.naive_bayes import MultinomialNB\n",
    "from sklearn.pipeline import make_pipeline"
   ]
  },
  {
   "cell_type": "code",
   "execution_count": 4,
   "id": "9c7e3607-ef2d-4aaf-a22b-ce142e68379f",
   "metadata": {},
   "outputs": [
    {
     "name": "stdout",
     "output_type": "stream",
     "text": [
      "Message: 'cheap meds now'\n",
      "Predicted Class: Spam\n",
      "Probabilities: Spam=0.92,Not Spam=0.08\n",
      "\n",
      "Message: 'schedule a meeting'\n",
      "Predicted Class: Not Spam\n",
      "Probabilities: Spam=0.11,Not Spam=0.89\n",
      "\n",
      "Message: 'project schedule'\n",
      "Predicted Class: Not Spam\n",
      "Probabilities: Spam=0.16,Not Spam=0.84\n",
      "\n",
      "Message: 'discount online pills'\n",
      "Predicted Class: Spam\n",
      "Probabilities: Spam=0.84,Not Spam=0.16\n",
      "\n",
      "Message: 'meeting now'\n",
      "Predicted Class: Not Spam\n",
      "Probabilities: Spam=0.43,Not Spam=0.57\n",
      "\n"
     ]
    }
   ],
   "source": [
    "# dataset \n",
    "texts = [\n",
    "    \"buy cheap meds now\",\n",
    "    \"cheap pills online\",\n",
    "    \"get discount now\",\n",
    "    \"project discussion\",\n",
    "    \"meeting at office\",\n",
    "    \"schedule a meeting\"\n",
    "]\n",
    "\n",
    "labels = [\"Spam\", \"Spam\", \"Spam\", \"Not Spam\", \"Not Spam\", \"Not Spam\",]\n",
    "\n",
    "# Create a model pipeline\n",
    "model = make_pipeline(CountVectorizer(), MultinomialNB(alpha=1.0)) # Laplace \n",
    "\n",
    "# Train the model \n",
    "model.fit(texts, labels)\n",
    "\n",
    "# Text message\n",
    "test_messages = [\n",
    "    \"cheap meds now\",\n",
    "    \"schedule a meeting\",\n",
    "    \"project schedule\",\n",
    "    \"discount online pills\",\n",
    "    \"meeting now\"\n",
    "]\n",
    "\n",
    "# Make predications \n",
    "predicted = model.predict(test_messages)\n",
    "probs = model.predict_proba(test_messages)\n",
    "\n",
    "# Display results\n",
    "for msg, label, prob in zip(test_messages, predicted, probs):\n",
    "    print(f\"Message: '{msg}'\")\n",
    "    print(f\"Predicted Class: {label}\")\n",
    "    print(f\"Probabilities: Spam={prob[model.classes_.tolist().index('Spam')]:.2f},Not Spam={prob[model.classes_.tolist().index('Not Spam')]:.2f}\\n\")\n"
   ]
  },
  {
   "cell_type": "code",
   "execution_count": 19,
   "id": "d7bed04f-22db-4725-9055-183b2aaed855",
   "metadata": {},
   "outputs": [],
   "source": [
    "import numpy as np\n",
    "import pandas as pd"
   ]
  },
  {
   "cell_type": "code",
   "execution_count": 20,
   "id": "07aa750f-156c-436c-83a7-b3eda980f007",
   "metadata": {},
   "outputs": [],
   "source": [
    "df = pd.read_csv(\"Social_Network_Ads - Social_Network_Ads.csv\")"
   ]
  },
  {
   "cell_type": "code",
   "execution_count": 21,
   "id": "f664ad0b-5788-433f-a7bf-f50e37d6cab0",
   "metadata": {},
   "outputs": [
    {
     "data": {
      "text/html": [
       "<div>\n",
       "<style scoped>\n",
       "    .dataframe tbody tr th:only-of-type {\n",
       "        vertical-align: middle;\n",
       "    }\n",
       "\n",
       "    .dataframe tbody tr th {\n",
       "        vertical-align: top;\n",
       "    }\n",
       "\n",
       "    .dataframe thead th {\n",
       "        text-align: right;\n",
       "    }\n",
       "</style>\n",
       "<table border=\"1\" class=\"dataframe\">\n",
       "  <thead>\n",
       "    <tr style=\"text-align: right;\">\n",
       "      <th></th>\n",
       "      <th>User ID</th>\n",
       "      <th>Gender</th>\n",
       "      <th>Age</th>\n",
       "      <th>EstimatedSalary</th>\n",
       "      <th>Purchased</th>\n",
       "    </tr>\n",
       "  </thead>\n",
       "  <tbody>\n",
       "    <tr>\n",
       "      <th>0</th>\n",
       "      <td>15624510</td>\n",
       "      <td>Male</td>\n",
       "      <td>19</td>\n",
       "      <td>19000</td>\n",
       "      <td>0</td>\n",
       "    </tr>\n",
       "    <tr>\n",
       "      <th>1</th>\n",
       "      <td>15810944</td>\n",
       "      <td>Male</td>\n",
       "      <td>35</td>\n",
       "      <td>20000</td>\n",
       "      <td>0</td>\n",
       "    </tr>\n",
       "    <tr>\n",
       "      <th>2</th>\n",
       "      <td>15668575</td>\n",
       "      <td>Female</td>\n",
       "      <td>26</td>\n",
       "      <td>43000</td>\n",
       "      <td>0</td>\n",
       "    </tr>\n",
       "    <tr>\n",
       "      <th>3</th>\n",
       "      <td>15603246</td>\n",
       "      <td>Female</td>\n",
       "      <td>27</td>\n",
       "      <td>57000</td>\n",
       "      <td>0</td>\n",
       "    </tr>\n",
       "    <tr>\n",
       "      <th>4</th>\n",
       "      <td>15804002</td>\n",
       "      <td>Male</td>\n",
       "      <td>19</td>\n",
       "      <td>76000</td>\n",
       "      <td>0</td>\n",
       "    </tr>\n",
       "  </tbody>\n",
       "</table>\n",
       "</div>"
      ],
      "text/plain": [
       "    User ID  Gender  Age  EstimatedSalary  Purchased\n",
       "0  15624510    Male   19            19000          0\n",
       "1  15810944    Male   35            20000          0\n",
       "2  15668575  Female   26            43000          0\n",
       "3  15603246  Female   27            57000          0\n",
       "4  15804002    Male   19            76000          0"
      ]
     },
     "execution_count": 21,
     "metadata": {},
     "output_type": "execute_result"
    }
   ],
   "source": [
    "df.head()"
   ]
  },
  {
   "cell_type": "code",
   "execution_count": 22,
   "id": "912c69d1-fe1f-488b-a799-4c590c434a84",
   "metadata": {},
   "outputs": [
    {
     "data": {
      "text/plain": [
       "User ID            0\n",
       "Gender             0\n",
       "Age                0\n",
       "EstimatedSalary    0\n",
       "Purchased          0\n",
       "dtype: int64"
      ]
     },
     "execution_count": 22,
     "metadata": {},
     "output_type": "execute_result"
    }
   ],
   "source": [
    "df.isnull().sum()"
   ]
  },
  {
   "cell_type": "code",
   "execution_count": 23,
   "id": "f436a0e0-187b-4af8-96b2-01f7fdd220c1",
   "metadata": {},
   "outputs": [],
   "source": [
    "from sklearn.preprocessing import LabelEncoder"
   ]
  },
  {
   "cell_type": "code",
   "execution_count": 24,
   "id": "9123f11b-9266-4171-80ea-4a7a654947d1",
   "metadata": {},
   "outputs": [],
   "source": [
    "lb = LabelEncoder()"
   ]
  },
  {
   "cell_type": "code",
   "execution_count": 25,
   "id": "44c2af1e-5fca-40ae-a3bf-a697e2412967",
   "metadata": {},
   "outputs": [],
   "source": [
    "df['Gender'] = lb.fit_transform(df['Gender'])"
   ]
  },
  {
   "cell_type": "code",
   "execution_count": 26,
   "id": "cb06e107-b30a-48cb-bffe-afc0b42d1ab2",
   "metadata": {},
   "outputs": [],
   "source": [
    "x = df.drop(columns = ['Purchased'])\n",
    "y = df['Purchased']"
   ]
  },
  {
   "cell_type": "code",
   "execution_count": 27,
   "id": "a39cf231-98a0-45b4-bb3d-920dc2f8849d",
   "metadata": {},
   "outputs": [],
   "source": [
    "from sklearn.model_selection import train_test_split"
   ]
  },
  {
   "cell_type": "code",
   "execution_count": 28,
   "id": "f6831a13-9f64-4b77-b1da-df38e3a98647",
   "metadata": {},
   "outputs": [],
   "source": [
    "x_train , x_test , y_train , y_test = train_test_split(x,y,test_size=0.2,random_state=42)"
   ]
  },
  {
   "cell_type": "code",
   "execution_count": 29,
   "id": "d1f7ddc8-254d-4806-bec2-f899e45ba3ad",
   "metadata": {},
   "outputs": [],
   "source": [
    "from sklearn.ensemble import RandomForestClassifier"
   ]
  },
  {
   "cell_type": "code",
   "execution_count": 30,
   "id": "e1bbc4c6-ac90-44b2-8722-038dce306e4b",
   "metadata": {},
   "outputs": [
    {
     "ename": "NameError",
     "evalue": "name 'rf' is not defined",
     "output_type": "error",
     "traceback": [
      "\u001b[31m---------------------------------------------------------------------------\u001b[39m",
      "\u001b[31mNameError\u001b[39m                                 Traceback (most recent call last)",
      "\u001b[36mCell\u001b[39m\u001b[36m \u001b[39m\u001b[32mIn[30]\u001b[39m\u001b[32m, line 1\u001b[39m\n\u001b[32m----> \u001b[39m\u001b[32m1\u001b[39m \u001b[43mrf\u001b[49m.fit(x_train , y_train)\n",
      "\u001b[31mNameError\u001b[39m: name 'rf' is not defined"
     ]
    }
   ],
   "source": [
    "rf.fit(x_train , y_train)"
   ]
  },
  {
   "cell_type": "code",
   "execution_count": null,
   "id": "41b41cb8-e195-4b50-a046-1e85b31b79ca",
   "metadata": {},
   "outputs": [],
   "source": []
  }
 ],
 "metadata": {
  "kernelspec": {
   "display_name": "Python 3 (ipykernel)",
   "language": "python",
   "name": "python3"
  },
  "language_info": {
   "codemirror_mode": {
    "name": "ipython",
    "version": 3
   },
   "file_extension": ".py",
   "mimetype": "text/x-python",
   "name": "python",
   "nbconvert_exporter": "python",
   "pygments_lexer": "ipython3",
   "version": "3.13.3"
  }
 },
 "nbformat": 4,
 "nbformat_minor": 5
}
