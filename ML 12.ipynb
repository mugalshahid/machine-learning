{
 "cells": [
  {
   "cell_type": "markdown",
   "id": "7742312b-8124-4c29-8561-dd2ddc7759b3",
   "metadata": {},
   "source": [
    "# SVM(Support Vector Machine):\n",
    "\n",
    "SVM is a supervised ml algo that is used for classification & regression task\n",
    "It is particularly effective in dealing in complex & high dimensional dataset\n",
    "The fundamental principle of SVM is to find an optimal hyperplane that maximally separates different classes in the input space"
   ]
  },
  {
   "cell_type": "markdown",
   "id": "76393820-e313-460c-9f0b-12f11c4efcf5",
   "metadata": {},
   "source": [
    "# HOW SVM WORK :-\n",
    " 1. we willl prepare our dataset \n",
    " 2. SVM requires labelled training data consisting of input features 7 corressponding class labels\n",
    " 3. each data point is represented as an function vector where each feature describe a particular characterstic of the data point\n",
    " 4. the data points should be preprocessed & sacled to ensure the features are on similar scales b/w 0 & 1"
   ]
  },
  {
   "cell_type": "code",
   "execution_count": null,
   "id": "09eb70db-14d6-46ab-a10e-50dcc97ca691",
   "metadata": {},
   "outputs": [],
   "source": [
    "Hyperplane and margin :---\n",
    " SVM aims to find a hyperplane that best seperates the diff classes in the features space in the binary classification problem the hyperplane \n",
    " SVM \n"
   ]
  },
  {
   "cell_type": "markdown",
   "id": "b3d08366-2038-497d-93e0-bfc92d591f66",
   "metadata": {},
   "source": [
    "# Linear SVM :-\n",
    " The linear svm finds an linear hyperplane that seperate the classes the goal is to find the hyperplane thet maximise the margin while minimizing the miss-classification.\n",
    " Mathematically this can be formulated as an optimisation problem with the objective of minimizing the weights of the hyperplane subject to the constraint that all training examples lie on the correct sode of hyperplane"
   ]
  },
  {
   "cell_type": "markdown",
   "id": "acffc7a3-5fc6-40d1-b6db-ca2ee126bbc8",
   "metadata": {},
   "source": [
    "# Non-Linear SVM :-\n",
    " In cases where data is not linearly separable. SVM using a techique that called kernal trick , the keranl trick makes the original input space into an higher dimensional feature space where the data pints can be linearly separable\n",
    " The choice of the kernal depends on the characterstics of the data & the problem at hand"
   ]
  },
  {
   "cell_type": "code",
   "execution_count": null,
   "id": "48e87213-4ac0-497c-9f94-575f2459d417",
   "metadata": {},
   "outputs": [],
   "source": [
    "Training of SVM :-\n",
    " SVM training involve finding the optimal hyperplane or decision boundary that seperates the class\n",
    " The optimization problem is solved using method such as quadratic programming or sequential minimize optimizaton\n",
    " The process involve solving for the weights of the hyperplane "
   ]
  },
  {
   "cell_type": "markdown",
   "id": "67799b93-beab-46aa-8c87-83718af608d1",
   "metadata": {},
   "source": [
    "# Prediction of SVM :-\n",
    " Once the SVM model trained it can be used to predict the class labels of new unseen data\n",
    " This algo computes the distance from the test point to the decision boundary \n",
    " The predicted class label is determine based on which side of the decision boundary the point lies \n",
    " The decision function cab also provide an confidence score or probability estimate for the prediction"
   ]
  },
  {
   "cell_type": "code",
   "execution_count": null,
   "id": "38020590-217b-4163-8a64-6eabcf141052",
   "metadata": {},
   "outputs": [],
   "source": []
  }
 ],
 "metadata": {
  "kernelspec": {
   "display_name": "Python 3 (ipykernel)",
   "language": "python",
   "name": "python3"
  },
  "language_info": {
   "codemirror_mode": {
    "name": "ipython",
    "version": 3
   },
   "file_extension": ".py",
   "mimetype": "text/x-python",
   "name": "python",
   "nbconvert_exporter": "python",
   "pygments_lexer": "ipython3",
   "version": "3.13.3"
  }
 },
 "nbformat": 4,
 "nbformat_minor": 5
}
