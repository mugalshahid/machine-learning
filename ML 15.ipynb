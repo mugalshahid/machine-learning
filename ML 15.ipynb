{
 "cells": [
  {
   "cell_type": "markdown",
   "id": "9f8da52d-e947-49dc-9504-0fb409f11178",
   "metadata": {},
   "source": [
    "# App user segmentation is the task of grouping users based on how they engage with the app.It helps find retained "
   ]
  },
  {
   "cell_type": "code",
   "execution_count": null,
   "id": "9899fd5c-4e50-4389-a8c5-3d21bd586013",
   "metadata": {},
   "outputs": [],
   "source": []
  },
  {
   "cell_type": "code",
   "execution_count": 1,
   "id": "5e8bb7a2-135a-416b-950a-d20ac0be458f",
   "metadata": {},
   "outputs": [],
   "source": [
    "import numpy as np \n",
    "import pandas as pd"
   ]
  },
  {
   "cell_type": "code",
   "execution_count": 2,
   "id": "68392697-2e76-42c4-95ce-49382ef9d538",
   "metadata": {},
   "outputs": [
    {
     "data": {
      "text/html": [
       "<div>\n",
       "<style scoped>\n",
       "    .dataframe tbody tr th:only-of-type {\n",
       "        vertical-align: middle;\n",
       "    }\n",
       "\n",
       "    .dataframe tbody tr th {\n",
       "        vertical-align: top;\n",
       "    }\n",
       "\n",
       "    .dataframe thead th {\n",
       "        text-align: right;\n",
       "    }\n",
       "</style>\n",
       "<table border=\"1\" class=\"dataframe\">\n",
       "  <thead>\n",
       "    <tr style=\"text-align: right;\">\n",
       "      <th></th>\n",
       "      <th>userid</th>\n",
       "      <th>Average Screen Time</th>\n",
       "      <th>Average Spent on App (INR)</th>\n",
       "      <th>Left Review</th>\n",
       "      <th>Ratings</th>\n",
       "      <th>New Password Request</th>\n",
       "      <th>Last Visited Minutes</th>\n",
       "      <th>Status</th>\n",
       "    </tr>\n",
       "  </thead>\n",
       "  <tbody>\n",
       "    <tr>\n",
       "      <th>0</th>\n",
       "      <td>1001</td>\n",
       "      <td>17</td>\n",
       "      <td>634</td>\n",
       "      <td>1</td>\n",
       "      <td>9</td>\n",
       "      <td>7</td>\n",
       "      <td>2990</td>\n",
       "      <td>Installed</td>\n",
       "    </tr>\n",
       "    <tr>\n",
       "      <th>1</th>\n",
       "      <td>1002</td>\n",
       "      <td>0</td>\n",
       "      <td>54</td>\n",
       "      <td>0</td>\n",
       "      <td>4</td>\n",
       "      <td>8</td>\n",
       "      <td>24008</td>\n",
       "      <td>Uninstalled</td>\n",
       "    </tr>\n",
       "    <tr>\n",
       "      <th>2</th>\n",
       "      <td>1003</td>\n",
       "      <td>37</td>\n",
       "      <td>207</td>\n",
       "      <td>0</td>\n",
       "      <td>8</td>\n",
       "      <td>5</td>\n",
       "      <td>971</td>\n",
       "      <td>Installed</td>\n",
       "    </tr>\n",
       "    <tr>\n",
       "      <th>3</th>\n",
       "      <td>1004</td>\n",
       "      <td>32</td>\n",
       "      <td>445</td>\n",
       "      <td>1</td>\n",
       "      <td>6</td>\n",
       "      <td>2</td>\n",
       "      <td>799</td>\n",
       "      <td>Installed</td>\n",
       "    </tr>\n",
       "    <tr>\n",
       "      <th>4</th>\n",
       "      <td>1005</td>\n",
       "      <td>45</td>\n",
       "      <td>427</td>\n",
       "      <td>1</td>\n",
       "      <td>5</td>\n",
       "      <td>6</td>\n",
       "      <td>3668</td>\n",
       "      <td>Installed</td>\n",
       "    </tr>\n",
       "  </tbody>\n",
       "</table>\n",
       "</div>"
      ],
      "text/plain": [
       "   userid  Average Screen Time  Average Spent on App (INR)  Left Review  \\\n",
       "0    1001                   17                         634            1   \n",
       "1    1002                    0                          54            0   \n",
       "2    1003                   37                         207            0   \n",
       "3    1004                   32                         445            1   \n",
       "4    1005                   45                         427            1   \n",
       "\n",
       "   Ratings  New Password Request  Last Visited Minutes       Status  \n",
       "0        9                     7                  2990    Installed  \n",
       "1        4                     8                 24008  Uninstalled  \n",
       "2        8                     5                   971    Installed  \n",
       "3        6                     2                   799    Installed  \n",
       "4        5                     6                  3668    Installed  "
      ]
     },
     "execution_count": 2,
     "metadata": {},
     "output_type": "execute_result"
    }
   ],
   "source": [
    "df = pd.read_csv(\"userbehaviour.csv\")\n",
    "df.head()"
   ]
  },
  {
   "cell_type": "code",
   "execution_count": 3,
   "id": "3d15d20e-f39a-4f1e-b9e1-f45873c69a94",
   "metadata": {},
   "outputs": [],
   "source": [
    "import plotly.graph_objects as go\n",
    "import plotly.express as px \n",
    "import plotly.io as pio\n",
    "import pandas as pd \n",
    "pio.templates.default = 'plotly_white'"
   ]
  },
  {
   "cell_type": "markdown",
   "id": "2fda5a8c-8d7c-4d52-8be0-91f08b88987a",
   "metadata": {},
   "source": [
    "# Let's start by looking at the highest, lowest, and average screen time of all the users:"
   ]
  },
  {
   "cell_type": "code",
   "execution_count": 5,
   "id": "43d03200-6c0e-4898-8d04-934628545fc3",
   "metadata": {},
   "outputs": [
    {
     "name": "stdout",
     "output_type": "stream",
     "text": [
      "Average Screen Time = 24.39039039039039\n",
      "Highest Screen Time = 50\n",
      "Lowest Screen Time = 0\n"
     ]
    }
   ],
   "source": [
    "print(f'Average Screen Time = {df['Average Screen Time'].mean()}')\n",
    "print(f'Highest Screen Time = {df['Average Screen Time'].max()}')\n",
    "print(f'Lowest Screen Time = {df['Average Screen Time'].min()}')"
   ]
  },
  {
   "cell_type": "markdown",
   "id": "8e8dc658-700d-4bf2-b961-3b27671c8561",
   "metadata": {},
   "source": [
    "# Now let's have a look at the highest, lowest, and the average amount spent by all the user's"
   ]
  },
  {
   "cell_type": "code",
   "execution_count": 9,
   "id": "be47f9de-f046-45b5-a4ea-3b72abb2edb5",
   "metadata": {},
   "outputs": [
    {
     "name": "stdout",
     "output_type": "stream",
     "text": [
      "Average Spend of the Users = 424.4154154154154\n",
      "Highest Spend of the Users = 998\n",
      "Lowest Spend of the Users = 0\n"
     ]
    }
   ],
   "source": [
    "print(f'Average Spend of the Users = {df['Average Spent on App (INR)'].mean()}')\n",
    "print(f'Highest Spend of the Users = {df['Average Spent on App (INR)'].max()}')\n",
    "print(f'Lowest Spend of the Users = {df['Average Spent on App (INR)'].min()}')"
   ]
  },
  {
   "cell_type": "markdown",
   "id": "b96cdea7-e4a8-412a-bd4e-784c71fc3b6d",
   "metadata": {},
   "source": [
    "# Now let's have a look at the relationship b/w the spending capacity and screen time of the active users and the users who have uninstalled the app: "
   ]
  },
  {
   "cell_type": "code",
   "execution_count": 13,
   "id": "706c6cbf-f50b-4ef3-9bee-0f8e9910db79",
   "metadata": {},
   "outputs": [
    {
     "data": {
      "application/vnd.plotly.v1+json": {
       "config": {
        "plotlyServerURL": "https://plot.ly"
       },
       "data": [
        {
         "hovertemplate": "Status=Installed<br>Average Screen Time=%{x}<br>Average Spent on App (INR)=%{marker.size}<extra></extra>",
         "legendgroup": "Installed",
         "marker": {
          "color": "#636efa",
          "size": {
           "bdata": "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",
           "dtype": "i2"
          },
          "sizemode": "area",
          "sizeref": 2.495,
          "symbol": "circle"
         },
         "mode": "markers",
         "name": "Installed",
         "orientation": "v",
         "showlegend": true,
         "type": "scatter",
         "x": {
          "bdata": "ESUgLRwxCBwcLBgBKSALJiIVEg8iCxoiMCExCS8iHiMMDBYDACgpFQwRKzITLBklDyoqDy0ZIiUgMRQxICUIMSsnIwkyKC4pCxYSJyAsDC4GMAYSDxcYAAotMAEvFQkRGS0eCw8OEQUaDA4EKR8JExALExUmHhsdByEQDwodARMsBiEnCRkoKxAjKxgHETERDhgpLA4WHSwXDi4lIQwoHQ4fMgksLSooIxEFEy8UDQ0eLgcwHRIIJRwZDjIdHxgRCQ8gDikPGgwSDgsjMBggKxUHBSAyEw4pGg8lDh8oJxoYIQoYIRIUHzEnGBkVJCAXGQ8aIw4rEAkPBwwkEg4YCBweLh4eMREgFiokIiUXHw4aEwUhCwQfITEhFhkJES8SLCgXGRkYJxkGKi4kFQAdCxElIw8SMRgMDxobGCcGISsxLCMiICsgEC0ZGC4cHhoIISMMMSIUEgcOKQsPKRYVEiMiEBITAx4NAjINMhciJAcpIhQfIyklCAIIDBYUCigSHycsIjIJDSgsER0hByQRCh4dHSEvIy0TFwchMSkQHhgRBhIXCCkZFBYnFSojKhYZFAsyER0LJwkZLQgNDR8qJA8QHC4iCQ0dHRoTIRAxCBcpKC0qFycQCwsEEAYrFhMlDikcMR0TMB4BBC8TISUHCTEpHhQtISMUEiEYJCkYByIVKygSEw4dMSISBgcTHiEtCBUqIzIULxgaCB4uLAYcBiUbLiMVExkqJCsfJRMXEgUIISIBBygiIyUnDiknGC0WCSkTES8WCBAwKBUtLyEtIBMPLysdERMVGwwWHwgjMgYKMQgfGxwSCC4eIS0fMCQGFhAgBgYtEhALIRkgJR4ICiYeCh8OEAsrFgcfEg4lIhYYBisvCwwaCC0OHygTHCwcBDIkGicYKikiBCgnKBQxChUODxEOBhwqDB0TDRkkBgoULyIeKRkhCR8eFQsXGx4GHBcRGhMgBBkPCCIlKhwnAxcfDSILCBASJR4THg4uJCIjJQseAR0uGCwSCxMRFAUdHB0NMiAhLgYBLTICCS0kGSwgESQUFhcRBQcPHAsYLwYZHw0IHy8rFhMMFC8TJS4fIi4oKR0IGyoJICsTCyMXGwkhLB4wHycXCSUSIhclExkTHxUpIxYOBx8qJQIKFQwUGyQUJx4THBkWBgcEEx0GFhInEhsYLiEdERwPJAgXGDAoIy4wEBgjIxgKCC4iKQomKy8GCQ==",
          "dtype": "i1"
         },
         "xaxis": "x",
         "y": {
          "bdata": "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",
          "dtype": "i2"
         },
         "yaxis": "y"
        },
        {
         "hovertemplate": "<b>OLS trendline</b><br>Average Spent on App (INR) = 7.82515 * Average Screen Time + 251.62<br>R<sup>2</sup>=0.113975<br><br>Status=Installed<br>Average Screen Time=%{x}<br>Average Spent on App (INR)=%{y} <b>(trend)</b><extra></extra>",
         "legendgroup": "Installed",
         "marker": {
          "color": "#636efa",
          "symbol": "circle"
         },
         "mode": "lines",
         "name": "Installed",
         "showlegend": false,
         "type": "scatter",
         "x": {
          "bdata": "AAAAAQEBAQEBAQICAgIDAwMEBAQEBAQEBAUFBQUFBQUGBgYGBgYGBgYGBgYGBgYGBgYGBgYGBgcHBwcHBwcHBwcHBwcHBwcHCAgICAgICAgICAgICAgICAgICAgICAgICAkJCQkJCQkJCQkJCQkJCQkJCQkJCgoKCgoKCgoKCgoKCgsLCwsLCwsLCwsLCwsLCwsLCwsLCwsMDAwMDAwMDAwMDAwMDAwMDQ0NDQ0NDQ0NDQ0NDg4ODg4ODg4ODg4ODg4ODg4ODg4ODg4ODg8PDw8PDw8PDw8PDw8PDw8PDw8PEBAQEBAQEBAQEBAQEBAQEBARERERERERERERERERERERERERERERERISEhISEhISEhISEhISEhISEhISEhISEhISExMTExMTExMTExMTExMTExMTExMTExMTExMTExMTExMUFBQUFBQUFBQUFBQUFBQUFBQVFRUVFRUVFRUVFRUVFRUVFRUWFhYWFhYWFhYWFhYWFhYWFhYWFhYXFxcXFxcXFxcXFxcXFxcXFxcXGBgYGBgYGBgYGBgYGBgYGBgYGBgYGBgYGBgYGRkZGRkZGRkZGRkZGRkZGRkZGRkZGRkZGhoaGhoaGhoaGhoaGhobGxsbGxsbGxsbHBwcHBwcHBwcHBwcHBwcHBwcHB0dHR0dHR0dHR0dHR0dHR0dHR0dHR0dHh4eHh4eHh4eHh4eHh4eHh4eHh4eHh4eHh4fHx8fHx8fHx8fHx8fHx8fHx8fHx8fHx8fICAgICAgICAgICAgICAgICAgICEhISEhISEhISEhISEhISEhISEhISEhISEhISIiIiIiIiIiIiIiIiIiIiIiIiIiIiIiIiIiIyMjIyMjIyMjIyMjIyMjIyMjIyMjIyMjJCQkJCQkJCQkJCQkJCQkJCQlJSUlJSUlJSUlJSUlJSUlJSUlJSUlJSUmJiYmJycnJycnJycnJycnJycnJycnJygoKCgoKCgoKCgoKCgoKCgoKCkpKSkpKSkpKSkpKSkpKSkpKSkpKSkpKSoqKioqKioqKioqKioqKiorKysrKysrKysrKysrKysrKywsLCwsLCwsLCwsLCwsLCwtLS0tLS0tLS0tLS0tLS0tLS0tLi4uLi4uLi4uLi4uLi4uLi4uLi8vLy8vLy8vLy8vLy8vLy8wMDAwMDAwMDAwMDExMTExMTExMTExMTExMTExMTEyMjIyMjIyMjIyMjIyMg==",
          "dtype": "i1"
         },
         "xaxis": "x",
         "y": {
          "bdata": "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",
          "dtype": "f8"
         },
         "yaxis": "y"
        },
        {
         "hovertemplate": "Status=Uninstalled<br>Average Screen Time=%{x}<br>Average Spent on App (INR)=%{marker.size}<extra></extra>",
         "legendgroup": "Uninstalled",
         "marker": {
          "color": "#EF553B",
          "size": {
           "bdata": "NmFdIkMaMF4ISxcsKl9TLmQlM1xFXRAKEU1bIF8nH10qLxwZMmE6D0tCERVRGT4ZYzskGmBUMSpYSw0tJAEKXFcGBF0FAAxUYR4xHU4qA18fSSs=",
           "dtype": "i1"
          },
          "sizemode": "area",
          "sizeref": 2.495,
          "symbol": "circle"
         },
         "mode": "markers",
         "name": "Uninstalled",
         "orientation": "v",
         "showlegend": true,
         "type": "scatter",
         "x": {
          "bdata": "AAEEAwUFAAEBAwADAgEDAwMEBAECAAEDBAMEAAACAQUABQEEBAAEBQQABQACAgUFAgEFAAIBBQAAAQIDBAMBAAEABAICAwQBAwMABQIEAgACAQI=",
          "dtype": "i1"
         },
         "xaxis": "x",
         "y": {
          "bdata": "NmFdIkMaMF4ISxcsKl9TLmQlM1xFXRAKEU1bIF8nH10qLxwZMmE6D0tCERVRGT4ZYzskGmBUMSpYSw0tJAEKXFcGBF0FAAxUYR4xHU4qA18fSSs=",
          "dtype": "i1"
         },
         "yaxis": "y"
        },
        {
         "hovertemplate": "<b>OLS trendline</b><br>Average Spent on App (INR) = -3.51397 * Average Screen Time + 60.0258<br>R<sup>2</sup>=0.037117<br><br>Status=Uninstalled<br>Average Screen Time=%{x}<br>Average Spent on App (INR)=%{y} <b>(trend)</b><extra></extra>",
         "legendgroup": "Uninstalled",
         "marker": {
          "color": "#EF553B",
          "symbol": "circle"
         },
         "mode": "lines",
         "name": "Uninstalled",
         "showlegend": false,
         "type": "scatter",
         "x": {
          "bdata": "AAAAAAAAAAAAAAAAAAAAAAABAQEBAQEBAQEBAQEBAQECAgICAgICAgICAgICAgMDAwMDAwMDAwMDAwMEBAQEBAQEBAQEBAQEBQUFBQUFBQUFBQU=",
          "dtype": "i1"
         },
         "xaxis": "x",
         "y": {
          "bdata": "yEF99UwDTkDIQX31TANOQMhBffVMA05AyEF99UwDTkDIQX31TANOQMhBffVMA05AyEF99UwDTkDIQX31TANOQMhBffVMA05AyEF99UwDTkDIQX31TANOQMhBffVMA05AyEF99UwDTkDIQX31TANOQMhBffVMA05AyEF99UwDTkDIQX31TANOQIA2WTSDQUxAgDZZNINBTECANlk0g0FMQIA2WTSDQUxAgDZZNINBTECANlk0g0FMQIA2WTSDQUxAgDZZNINBTECANlk0g0FMQIA2WTSDQUxAgDZZNINBTECANlk0g0FMQIA2WTSDQUxAgDZZNINBTECANlk0g0FMQDgrNXO5f0pAOCs1c7l/SkA4KzVzuX9KQDgrNXO5f0pAOCs1c7l/SkA4KzVzuX9KQDgrNXO5f0pAOCs1c7l/SkA4KzVzuX9KQDgrNXO5f0pAOCs1c7l/SkA4KzVzuX9KQDgrNXO5f0pAOCs1c7l/SkDwHxGy771IQPAfEbLvvUhA8B8Rsu+9SEDwHxGy771IQPAfEbLvvUhA8B8Rsu+9SEDwHxGy771IQPAfEbLvvUhA8B8Rsu+9SEDwHxGy771IQPAfEbLvvUhA8B8Rsu+9SEDwHxGy771IQKgU7fAl/EZAqBTt8CX8RkCoFO3wJfxGQKgU7fAl/EZAqBTt8CX8RkCoFO3wJfxGQKgU7fAl/EZAqBTt8CX8RkCoFO3wJfxGQKgU7fAl/EZAqBTt8CX8RkCoFO3wJfxGQKgU7fAl/EZAYAnJL1w6RUBgCckvXDpFQGAJyS9cOkVAYAnJL1w6RUBgCckvXDpFQGAJyS9cOkVAYAnJL1w6RUBgCckvXDpFQGAJyS9cOkVAYAnJL1w6RUBgCckvXDpFQA==",
          "dtype": "f8"
         },
         "yaxis": "y"
        }
       ],
       "layout": {
        "legend": {
         "itemsizing": "constant",
         "title": {
          "text": "Status"
         },
         "tracegroupgap": 0
        },
        "template": {
         "data": {
          "bar": [
           {
            "error_x": {
             "color": "#2a3f5f"
            },
            "error_y": {
             "color": "#2a3f5f"
            },
            "marker": {
             "line": {
              "color": "white",
              "width": 0.5
             },
             "pattern": {
              "fillmode": "overlay",
              "size": 10,
              "solidity": 0.2
             }
            },
            "type": "bar"
           }
          ],
          "barpolar": [
           {
            "marker": {
             "line": {
              "color": "white",
              "width": 0.5
             },
             "pattern": {
              "fillmode": "overlay",
              "size": 10,
              "solidity": 0.2
             }
            },
            "type": "barpolar"
           }
          ],
          "carpet": [
           {
            "aaxis": {
             "endlinecolor": "#2a3f5f",
             "gridcolor": "#C8D4E3",
             "linecolor": "#C8D4E3",
             "minorgridcolor": "#C8D4E3",
             "startlinecolor": "#2a3f5f"
            },
            "baxis": {
             "endlinecolor": "#2a3f5f",
             "gridcolor": "#C8D4E3",
             "linecolor": "#C8D4E3",
             "minorgridcolor": "#C8D4E3",
             "startlinecolor": "#2a3f5f"
            },
            "type": "carpet"
           }
          ],
          "choropleth": [
           {
            "colorbar": {
             "outlinewidth": 0,
             "ticks": ""
            },
            "type": "choropleth"
           }
          ],
          "contour": [
           {
            "colorbar": {
             "outlinewidth": 0,
             "ticks": ""
            },
            "colorscale": [
             [
              0,
              "#0d0887"
             ],
             [
              0.1111111111111111,
              "#46039f"
             ],
             [
              0.2222222222222222,
              "#7201a8"
             ],
             [
              0.3333333333333333,
              "#9c179e"
             ],
             [
              0.4444444444444444,
              "#bd3786"
             ],
             [
              0.5555555555555556,
              "#d8576b"
             ],
             [
              0.6666666666666666,
              "#ed7953"
             ],
             [
              0.7777777777777778,
              "#fb9f3a"
             ],
             [
              0.8888888888888888,
              "#fdca26"
             ],
             [
              1,
              "#f0f921"
             ]
            ],
            "type": "contour"
           }
          ],
          "contourcarpet": [
           {
            "colorbar": {
             "outlinewidth": 0,
             "ticks": ""
            },
            "type": "contourcarpet"
           }
          ],
          "heatmap": [
           {
            "colorbar": {
             "outlinewidth": 0,
             "ticks": ""
            },
            "colorscale": [
             [
              0,
              "#0d0887"
             ],
             [
              0.1111111111111111,
              "#46039f"
             ],
             [
              0.2222222222222222,
              "#7201a8"
             ],
             [
              0.3333333333333333,
              "#9c179e"
             ],
             [
              0.4444444444444444,
              "#bd3786"
             ],
             [
              0.5555555555555556,
              "#d8576b"
             ],
             [
              0.6666666666666666,
              "#ed7953"
             ],
             [
              0.7777777777777778,
              "#fb9f3a"
             ],
             [
              0.8888888888888888,
              "#fdca26"
             ],
             [
              1,
              "#f0f921"
             ]
            ],
            "type": "heatmap"
           }
          ],
          "histogram": [
           {
            "marker": {
             "pattern": {
              "fillmode": "overlay",
              "size": 10,
              "solidity": 0.2
             }
            },
            "type": "histogram"
           }
          ],
          "histogram2d": [
           {
            "colorbar": {
             "outlinewidth": 0,
             "ticks": ""
            },
            "colorscale": [
             [
              0,
              "#0d0887"
             ],
             [
              0.1111111111111111,
              "#46039f"
             ],
             [
              0.2222222222222222,
              "#7201a8"
             ],
             [
              0.3333333333333333,
              "#9c179e"
             ],
             [
              0.4444444444444444,
              "#bd3786"
             ],
             [
              0.5555555555555556,
              "#d8576b"
             ],
             [
              0.6666666666666666,
              "#ed7953"
             ],
             [
              0.7777777777777778,
              "#fb9f3a"
             ],
             [
              0.8888888888888888,
              "#fdca26"
             ],
             [
              1,
              "#f0f921"
             ]
            ],
            "type": "histogram2d"
           }
          ],
          "histogram2dcontour": [
           {
            "colorbar": {
             "outlinewidth": 0,
             "ticks": ""
            },
            "colorscale": [
             [
              0,
              "#0d0887"
             ],
             [
              0.1111111111111111,
              "#46039f"
             ],
             [
              0.2222222222222222,
              "#7201a8"
             ],
             [
              0.3333333333333333,
              "#9c179e"
             ],
             [
              0.4444444444444444,
              "#bd3786"
             ],
             [
              0.5555555555555556,
              "#d8576b"
             ],
             [
              0.6666666666666666,
              "#ed7953"
             ],
             [
              0.7777777777777778,
              "#fb9f3a"
             ],
             [
              0.8888888888888888,
              "#fdca26"
             ],
             [
              1,
              "#f0f921"
             ]
            ],
            "type": "histogram2dcontour"
           }
          ],
          "mesh3d": [
           {
            "colorbar": {
             "outlinewidth": 0,
             "ticks": ""
            },
            "type": "mesh3d"
           }
          ],
          "parcoords": [
           {
            "line": {
             "colorbar": {
              "outlinewidth": 0,
              "ticks": ""
             }
            },
            "type": "parcoords"
           }
          ],
          "pie": [
           {
            "automargin": true,
            "type": "pie"
           }
          ],
          "scatter": [
           {
            "fillpattern": {
             "fillmode": "overlay",
             "size": 10,
             "solidity": 0.2
            },
            "type": "scatter"
           }
          ],
          "scatter3d": [
           {
            "line": {
             "colorbar": {
              "outlinewidth": 0,
              "ticks": ""
             }
            },
            "marker": {
             "colorbar": {
              "outlinewidth": 0,
              "ticks": ""
             }
            },
            "type": "scatter3d"
           }
          ],
          "scattercarpet": [
           {
            "marker": {
             "colorbar": {
              "outlinewidth": 0,
              "ticks": ""
             }
            },
            "type": "scattercarpet"
           }
          ],
          "scattergeo": [
           {
            "marker": {
             "colorbar": {
              "outlinewidth": 0,
              "ticks": ""
             }
            },
            "type": "scattergeo"
           }
          ],
          "scattergl": [
           {
            "marker": {
             "colorbar": {
              "outlinewidth": 0,
              "ticks": ""
             }
            },
            "type": "scattergl"
           }
          ],
          "scattermap": [
           {
            "marker": {
             "colorbar": {
              "outlinewidth": 0,
              "ticks": ""
             }
            },
            "type": "scattermap"
           }
          ],
          "scattermapbox": [
           {
            "marker": {
             "colorbar": {
              "outlinewidth": 0,
              "ticks": ""
             }
            },
            "type": "scattermapbox"
           }
          ],
          "scatterpolar": [
           {
            "marker": {
             "colorbar": {
              "outlinewidth": 0,
              "ticks": ""
             }
            },
            "type": "scatterpolar"
           }
          ],
          "scatterpolargl": [
           {
            "marker": {
             "colorbar": {
              "outlinewidth": 0,
              "ticks": ""
             }
            },
            "type": "scatterpolargl"
           }
          ],
          "scatterternary": [
           {
            "marker": {
             "colorbar": {
              "outlinewidth": 0,
              "ticks": ""
             }
            },
            "type": "scatterternary"
           }
          ],
          "surface": [
           {
            "colorbar": {
             "outlinewidth": 0,
             "ticks": ""
            },
            "colorscale": [
             [
              0,
              "#0d0887"
             ],
             [
              0.1111111111111111,
              "#46039f"
             ],
             [
              0.2222222222222222,
              "#7201a8"
             ],
             [
              0.3333333333333333,
              "#9c179e"
             ],
             [
              0.4444444444444444,
              "#bd3786"
             ],
             [
              0.5555555555555556,
              "#d8576b"
             ],
             [
              0.6666666666666666,
              "#ed7953"
             ],
             [
              0.7777777777777778,
              "#fb9f3a"
             ],
             [
              0.8888888888888888,
              "#fdca26"
             ],
             [
              1,
              "#f0f921"
             ]
            ],
            "type": "surface"
           }
          ],
          "table": [
           {
            "cells": {
             "fill": {
              "color": "#EBF0F8"
             },
             "line": {
              "color": "white"
             }
            },
            "header": {
             "fill": {
              "color": "#C8D4E3"
             },
             "line": {
              "color": "white"
             }
            },
            "type": "table"
           }
          ]
         },
         "layout": {
          "annotationdefaults": {
           "arrowcolor": "#2a3f5f",
           "arrowhead": 0,
           "arrowwidth": 1
          },
          "autotypenumbers": "strict",
          "coloraxis": {
           "colorbar": {
            "outlinewidth": 0,
            "ticks": ""
           }
          },
          "colorscale": {
           "diverging": [
            [
             0,
             "#8e0152"
            ],
            [
             0.1,
             "#c51b7d"
            ],
            [
             0.2,
             "#de77ae"
            ],
            [
             0.3,
             "#f1b6da"
            ],
            [
             0.4,
             "#fde0ef"
            ],
            [
             0.5,
             "#f7f7f7"
            ],
            [
             0.6,
             "#e6f5d0"
            ],
            [
             0.7,
             "#b8e186"
            ],
            [
             0.8,
             "#7fbc41"
            ],
            [
             0.9,
             "#4d9221"
            ],
            [
             1,
             "#276419"
            ]
           ],
           "sequential": [
            [
             0,
             "#0d0887"
            ],
            [
             0.1111111111111111,
             "#46039f"
            ],
            [
             0.2222222222222222,
             "#7201a8"
            ],
            [
             0.3333333333333333,
             "#9c179e"
            ],
            [
             0.4444444444444444,
             "#bd3786"
            ],
            [
             0.5555555555555556,
             "#d8576b"
            ],
            [
             0.6666666666666666,
             "#ed7953"
            ],
            [
             0.7777777777777778,
             "#fb9f3a"
            ],
            [
             0.8888888888888888,
             "#fdca26"
            ],
            [
             1,
             "#f0f921"
            ]
           ],
           "sequentialminus": [
            [
             0,
             "#0d0887"
            ],
            [
             0.1111111111111111,
             "#46039f"
            ],
            [
             0.2222222222222222,
             "#7201a8"
            ],
            [
             0.3333333333333333,
             "#9c179e"
            ],
            [
             0.4444444444444444,
             "#bd3786"
            ],
            [
             0.5555555555555556,
             "#d8576b"
            ],
            [
             0.6666666666666666,
             "#ed7953"
            ],
            [
             0.7777777777777778,
             "#fb9f3a"
            ],
            [
             0.8888888888888888,
             "#fdca26"
            ],
            [
             1,
             "#f0f921"
            ]
           ]
          },
          "colorway": [
           "#636efa",
           "#EF553B",
           "#00cc96",
           "#ab63fa",
           "#FFA15A",
           "#19d3f3",
           "#FF6692",
           "#B6E880",
           "#FF97FF",
           "#FECB52"
          ],
          "font": {
           "color": "#2a3f5f"
          },
          "geo": {
           "bgcolor": "white",
           "lakecolor": "white",
           "landcolor": "white",
           "showlakes": true,
           "showland": true,
           "subunitcolor": "#C8D4E3"
          },
          "hoverlabel": {
           "align": "left"
          },
          "hovermode": "closest",
          "mapbox": {
           "style": "light"
          },
          "paper_bgcolor": "white",
          "plot_bgcolor": "white",
          "polar": {
           "angularaxis": {
            "gridcolor": "#EBF0F8",
            "linecolor": "#EBF0F8",
            "ticks": ""
           },
           "bgcolor": "white",
           "radialaxis": {
            "gridcolor": "#EBF0F8",
            "linecolor": "#EBF0F8",
            "ticks": ""
           }
          },
          "scene": {
           "xaxis": {
            "backgroundcolor": "white",
            "gridcolor": "#DFE8F3",
            "gridwidth": 2,
            "linecolor": "#EBF0F8",
            "showbackground": true,
            "ticks": "",
            "zerolinecolor": "#EBF0F8"
           },
           "yaxis": {
            "backgroundcolor": "white",
            "gridcolor": "#DFE8F3",
            "gridwidth": 2,
            "linecolor": "#EBF0F8",
            "showbackground": true,
            "ticks": "",
            "zerolinecolor": "#EBF0F8"
           },
           "zaxis": {
            "backgroundcolor": "white",
            "gridcolor": "#DFE8F3",
            "gridwidth": 2,
            "linecolor": "#EBF0F8",
            "showbackground": true,
            "ticks": "",
            "zerolinecolor": "#EBF0F8"
           }
          },
          "shapedefaults": {
           "line": {
            "color": "#2a3f5f"
           }
          },
          "ternary": {
           "aaxis": {
            "gridcolor": "#DFE8F3",
            "linecolor": "#A2B1C6",
            "ticks": ""
           },
           "baxis": {
            "gridcolor": "#DFE8F3",
            "linecolor": "#A2B1C6",
            "ticks": ""
           },
           "bgcolor": "white",
           "caxis": {
            "gridcolor": "#DFE8F3",
            "linecolor": "#A2B1C6",
            "ticks": ""
           }
          },
          "title": {
           "x": 0.05
          },
          "xaxis": {
           "automargin": true,
           "gridcolor": "#EBF0F8",
           "linecolor": "#EBF0F8",
           "ticks": "",
           "title": {
            "standoff": 15
           },
           "zerolinecolor": "#EBF0F8",
           "zerolinewidth": 2
          },
          "yaxis": {
           "automargin": true,
           "gridcolor": "#EBF0F8",
           "linecolor": "#EBF0F8",
           "ticks": "",
           "title": {
            "standoff": 15
           },
           "zerolinecolor": "#EBF0F8",
           "zerolinewidth": 2
          }
         }
        },
        "title": {
         "text": "Relation between Spending Capacity and Screentime"
        },
        "xaxis": {
         "anchor": "y",
         "domain": [
          0,
          1
         ],
         "title": {
          "text": "Average Screen Time"
         }
        },
        "yaxis": {
         "anchor": "x",
         "domain": [
          0,
          1
         ],
         "title": {
          "text": "Average Spent on App (INR)"
         }
        }
       }
      },
      "image/png": "[encoded data removed]"
     },
     "metadata": {},
     "output_type": "display_data"
    }
   ],
   "source": [
    "figure = px.scatter(data_frame = df,\n",
    "                   x=\"Average Screen Time\",\n",
    "                   y=\"Average Spent on App (INR)\",\n",
    "                   size=\"Average Spent on App (INR)\",\n",
    "                   color=\"Status\",\n",
    "                   title=\"Relation between Spending Capacity and Screentime\",\n",
    "                   trendline=\"ols\")\n",
    "figure.show()"
   ]
  },
  {
   "cell_type": "code",
   "execution_count": null,
   "id": "166dfcfb-ed2d-4976-ba32-46f69d570cea",
   "metadata": {},
   "outputs": [],
   "source": [
    "So this is great! Users who "
   ]
  },
  {
   "cell_type": "code",
   "execution_count": 15,
   "id": "ae22b0b2-6c23-4659-be8e-7235378f9a3a",
   "metadata": {},
   "outputs": [
    {
     "data": {
      "application/vnd.plotly.v1+json": {
       "config": {
        "plotlyServerURL": "https://plot.ly"
       },
       "data": [
        {
         "hovertemplate": "Status=Installed<br>Average Screen Time=%{x}<br>Ratings=%{marker.size}<extra></extra>",
         "legendgroup": "Installed",
         "marker": {
          "color": "#636efa",
          "size": {
           "bdata": "CQgGBQkJAggICAoDCgUKBwYHCgcGCQkICgkFAAkJBgkFBwUFBAcHBQoKCAgGCgkFBQkKCgUJBgoKCgcGCQcDCQUGCgAHCgcHCgoGCQgJBQkEBQQHCgYIAAIFBwUFCgMJCQUJBQUIBwUFBggABQcDBwYIBQUJCAcIAggGBgEGAgcHAAoJBAYICQgFBggDBgkFBwYHCAgGBwoHBwUHBgoICgUFBgEKBQkHCAgDCAYJCQUJCQEHCAUDCgcKBgkHBwoJAgkICQkFCQUGCQoGBggHCAUBAQYJCQUFCQoHCAYJBwcGCAAJCQkKCgoIBwcHCQcJCAoJBwkHCgUGBQoJCQgGBAYJCgUJBwoJCgcJBwYHBQkHBgIJCgAKCgoHCgcCCQoIBgYGCgUIBQcBCAkGBwUICAcIBQkFCAoIBQgJBwoECQgICgcFBwkJBQgHCgYFCAYBBQgJCAoHCgUKCggFCgoGBwgJBgoJAQoHBAUHCAYJCAIKCQYGBwgHAQMCBwUFBAkGBQcIBQYACgkKCAgGBAYHAgUFCAcFCgUFCQAGBwUKBwYIAQYJAwYKBQYIBwgGBgUIBwkJCAkFCQIKCgQKCgcHBQkICQcFAQUKCgoFBggKAAoKBgUHBwUJBwoDCgUHCQkIBgcGCgkIBwoCBAUHCQkFAgoHCQcJCQkIBwUGCQoJBAYGBQYICgUGCgcKBQEFCgUIAQkJBwkJBwoFBQkKBgQJAQoFCAkHCQcFBwgIBQcIBgEDCQcEBQoFBwcIBwYGCAUGAgcGBQYHAwUGCgkGCAUJBQcKCgoIBgcICQYICgQGCAACCAIGCAYKAgcKBQYGBwcCCAkFAwAKCAYKCgkGBgoABAcGAQgGCQcIBwAJCQcJCAgIAQUKBgYFAQcJCAoJCQUJAAcHBQkIBQgKBQoIBwgKAAUGBQoJAgkHCgcHCAoJBQAIBwYICQoGAwYHBwYICggACggGCQgKAAcGAAYFBgoHAAYGCAcGAgcFCQoFBwoKCgcKCQgIAAoICAgFBgoHCAIGBgUGCQcIBwIBBQkEBQoGBgYKBggKCQoJAwQICAgGCAEGCQkBCgkFBwoFBwcKBQoJBwYICQUEBgYFBwoICQoGBwQFBggGCQUGAgoICAcJCQgHBggHCgkKAwgHBgMACQcJCgkICAgGCQcIBAAFBggBCQgGCQUHCgoJCAoGBQUKBgYJCggGBgUIBgkDBQcICAEFBgYFBA==",
           "dtype": "i1"
          },
          "sizemode": "area",
          "sizeref": 0.025,
          "symbol": "circle"
         },
         "mode": "markers",
         "name": "Installed",
         "orientation": "v",
         "showlegend": true,
         "type": "scatter",
         "x": {
          "bdata": "ESUgLRwxCBwcLBgBKSALJiIVEg8iCxoiMCExCS8iHiMMDBYDACgpFQwRKzITLBklDyoqDy0ZIiUgMRQxICUIMSsnIwkyKC4pCxYSJyAsDC4GMAYSDxcYAAotMAEvFQkRGS0eCw8OEQUaDA4EKR8JExALExUmHhsdByEQDwodARMsBiEnCRkoKxAjKxgHETERDhgpLA4WHSwXDi4lIQwoHQ4fMgksLSooIxEFEy8UDQ0eLgcwHRIIJRwZDjIdHxgRCQ8gDikPGgwSDgsjMBggKxUHBSAyEw4pGg8lDh8oJxoYIQoYIRIUHzEnGBkVJCAXGQ8aIw4rEAkPBwwkEg4YCBweLh4eMREgFiokIiUXHw4aEwUhCwQfITEhFhkJES8SLCgXGRkYJxkGKi4kFQAdCxElIw8SMRgMDxobGCcGISsxLCMiICsgEC0ZGC4cHhoIISMMMSIUEgcOKQsPKRYVEiMiEBITAx4NAjINMhciJAcpIhQfIyklCAIIDBYUCigSHycsIjIJDSgsER0hByQRCh4dHSEvIy0TFwchMSkQHhgRBhIXCCkZFBYnFSojKhYZFAsyER0LJwkZLQgNDR8qJA8QHC4iCQ0dHRoTIRAxCBcpKC0qFycQCwsEEAYrFhMlDikcMR0TMB4BBC8TISUHCTEpHhQtISMUEiEYJCkYByIVKygSEw4dMSISBgcTHiEtCBUqIzIULxgaCB4uLAYcBiUbLiMVExkqJCsfJRMXEgUIISIBBygiIyUnDiknGC0WCSkTES8WCBAwKBUtLyEtIBMPLysdERMVGwwWHwgjMgYKMQgfGxwSCC4eIS0fMCQGFhAgBgYtEhALIRkgJR4ICiYeCh8OEAsrFgcfEg4lIhYYBisvCwwaCC0OHygTHCwcBDIkGicYKikiBCgnKBQxChUODxEOBhwqDB0TDRkkBgoULyIeKRkhCR8eFQsXGx4GHBcRGhMgBBkPCCIlKhwnAxcfDSILCBASJR4THg4uJCIjJQseAR0uGCwSCxMRFAUdHB0NMiAhLgYBLTICCS0kGSwgESQUFhcRBQcPHAsYLwYZHw0IHy8rFhMMFC8TJS4fIi4oKR0IGyoJICsTCyMXGwkhLB4wHycXCSUSIhclExkTHxUpIxYOBx8qJQIKFQwUGyQUJx4THBkWBgcEEx0GFhInEhsYLiEdERwPJAgXGDAoIy4wEBgjIxgKCC4iKQomKy8GCQ==",
          "dtype": "i1"
         },
         "xaxis": "x",
         "y": {
          "bdata": "CQgGBQkJAggICAoDCgUKBwYHCgcGCQkICgkFAAkJBgkFBwUFBAcHBQoKCAgGCgkFBQkKCgUJBgoKCgcGCQcDCQUGCgAHCgcHCgoGCQgJBQkEBQQHCgYIAAIFBwUFCgMJCQUJBQUIBwUFBggABQcDBwYIBQUJCAcIAggGBgEGAgcHAAoJBAYICQgFBggDBgkFBwYHCAgGBwoHBwUHBgoICgUFBgEKBQkHCAgDCAYJCQUJCQEHCAUDCgcKBgkHBwoJAgkICQkFCQUGCQoGBggHCAUBAQYJCQUFCQoHCAYJBwcGCAAJCQkKCgoIBwcHCQcJCAoJBwkHCgUGBQoJCQgGBAYJCgUJBwoJCgcJBwYHBQkHBgIJCgAKCgoHCgcCCQoIBgYGCgUIBQcBCAkGBwUICAcIBQkFCAoIBQgJBwoECQgICgcFBwkJBQgHCgYFCAYBBQgJCAoHCgUKCggFCgoGBwgJBgoJAQoHBAUHCAYJCAIKCQYGBwgHAQMCBwUFBAkGBQcIBQYACgkKCAgGBAYHAgUFCAcFCgUFCQAGBwUKBwYIAQYJAwYKBQYIBwgGBgUIBwkJCAkFCQIKCgQKCgcHBQkICQcFAQUKCgoFBggKAAoKBgUHBwUJBwoDCgUHCQkIBgcGCgkIBwoCBAUHCQkFAgoHCQcJCQkIBwUGCQoJBAYGBQYICgUGCgcKBQEFCgUIAQkJBwkJBwoFBQkKBgQJAQoFCAkHCQcFBwgIBQcIBgEDCQcEBQoFBwcIBwYGCAUGAgcGBQYHAwUGCgkGCAUJBQcKCgoIBgcICQYICgQGCAACCAIGCAYKAgcKBQYGBwcCCAkFAwAKCAYKCgkGBgoABAcGAQgGCQcIBwAJCQcJCAgIAQUKBgYFAQcJCAoJCQUJAAcHBQkIBQgKBQoIBwgKAAUGBQoJAgkHCgcHCAoJBQAIBwYICQoGAwYHBwYICggACggGCQgKAAcGAAYFBgoHAAYGCAcGAgcFCQoFBwoKCgcKCQgIAAoICAgFBgoHCAIGBgUGCQcIBwIBBQkEBQoGBgYKBggKCQoJAwQICAgGCAEGCQkBCgkFBwoFBwcKBQoJBwYICQUEBgYFBwoICQoGBwQFBggGCQUGAgoICAcJCQgHBggHCgkKAwgHBgMACQcJCgkICAgGCQcIBAAFBggBCQgGCQUHCgoJCAoGBQUKBgYJCggGBgUIBgkDBQcICAEFBgYFBA==",
          "dtype": "i1"
         },
         "yaxis": "y"
        },
        {
         "hovertemplate": "<b>OLS trendline</b><br>Ratings = 0.0854571 * Average Screen Time + 4.6178<br>R<sup>2</sup>=0.204850<br><br>Status=Installed<br>Average Screen Time=%{x}<br>Ratings=%{y} <b>(trend)</b><extra></extra>",
         "legendgroup": "Installed",
         "marker": {
          "color": "#636efa",
          "symbol": "circle"
         },
         "mode": "lines",
         "name": "Installed",
         "showlegend": false,
         "type": "scatter",
         "x": {
          "bdata": "AAAAAQEBAQEBAQICAgIDAwMEBAQEBAQEBAUFBQUFBQUGBgYGBgYGBgYGBgYGBgYGBgYGBgYGBgcHBwcHBwcHBwcHBwcHBwcHCAgICAgICAgICAgICAgICAgICAgICAgICAkJCQkJCQkJCQkJCQkJCQkJCQkJCgoKCgoKCgoKCgoKCgsLCwsLCwsLCwsLCwsLCwsLCwsLCwsMDAwMDAwMDAwMDAwMDAwMDQ0NDQ0NDQ0NDQ0NDg4ODg4ODg4ODg4ODg4ODg4ODg4ODg4ODg8PDw8PDw8PDw8PDw8PDw8PDw8PEBAQEBAQEBAQEBAQEBAQEBARERERERERERERERERERERERERERERERISEhISEhISEhISEhISEhISEhISEhISEhISExMTExMTExMTExMTExMTExMTExMTExMTExMTExMTExMUFBQUFBQUFBQUFBQUFBQUFBQVFRUVFRUVFRUVFRUVFRUVFRUWFhYWFhYWFhYWFhYWFhYWFhYWFhYXFxcXFxcXFxcXFxcXFxcXFxcXGBgYGBgYGBgYGBgYGBgYGBgYGBgYGBgYGBgYGRkZGRkZGRkZGRkZGRkZGRkZGRkZGRkZGhoaGhoaGhoaGhoaGhobGxsbGxsbGxsbHBwcHBwcHBwcHBwcHBwcHBwcHB0dHR0dHR0dHR0dHR0dHR0dHR0dHR0dHh4eHh4eHh4eHh4eHh4eHh4eHh4eHh4eHh4fHx8fHx8fHx8fHx8fHx8fHx8fHx8fHx8fICAgICAgICAgICAgICAgICAgICEhISEhISEhISEhISEhISEhISEhISEhISEhISIiIiIiIiIiIiIiIiIiIiIiIiIiIiIiIiIiIyMjIyMjIyMjIyMjIyMjIyMjIyMjIyMjJCQkJCQkJCQkJCQkJCQkJCQlJSUlJSUlJSUlJSUlJSUlJSUlJSUlJSUmJiYmJycnJycnJycnJycnJycnJycnJygoKCgoKCgoKCgoKCgoKCgoKCkpKSkpKSkpKSkpKSkpKSkpKSkpKSkpKSoqKioqKioqKioqKioqKiorKysrKysrKysrKysrKysrKywsLCwsLCwsLCwsLCwsLCwtLS0tLS0tLS0tLS0tLS0tLS0tLi4uLi4uLi4uLi4uLi4uLi4uLi8vLy8vLy8vLy8vLy8vLy8wMDAwMDAwMDAwMDExMTExMTExMTExMTExMTExMTEyMjIyMjIyMjIyMjIyMg==",
          "dtype": "i1"
         },
         "xaxis": "x",
         "y": {
          "bdata": "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",
          "dtype": "f8"
         },
         "yaxis": "y"
        },
        {
         "hovertemplate": "Status=Uninstalled<br>Average Screen Time=%{x}<br>Ratings=%{marker.size}<extra></extra>",
         "legendgroup": "Uninstalled",
         "marker": {
          "color": "#EF553B",
          "size": {
           "bdata": "BAECBQIDBAUABAEAAgIAAgMDAAEABAUEBQACBAABBAQFAAIDAAMAAgQABQUEAgMCAwADBQACAgMBBQECAgEABQUEAgIFAgICAwEDAwQEAwEFAwU=",
           "dtype": "i1"
          },
          "sizemode": "area",
          "sizeref": 0.025,
          "symbol": "circle"
         },
         "mode": "markers",
         "name": "Uninstalled",
         "orientation": "v",
         "showlegend": true,
         "type": "scatter",
         "x": {
          "bdata": "AAEEAwUFAAEBAwADAgEDAwMEBAECAAEDBAMEAAACAQUABQEEBAAEBQQABQACAgUFAgEFAAIBBQAAAQIDBAMBAAEABAICAwQBAwMABQIEAgACAQI=",
          "dtype": "i1"
         },
         "xaxis": "x",
         "y": {
          "bdata": "BAECBQIDBAUABAEAAgIAAgMDAAEABAUEBQACBAABBAQFAAIDAAMAAgQABQUEAgMCAwADBQACAgMBBQECAgEABQUEAgIFAgICAwEDAwQEAwEFAwU=",
          "dtype": "i1"
         },
         "yaxis": "y"
        },
        {
         "hovertemplate": "<b>OLS trendline</b><br>Ratings = -0.11416 * Average Screen Time + 2.80212<br>R<sup>2</sup>=0.013482<br><br>Status=Uninstalled<br>Average Screen Time=%{x}<br>Ratings=%{y} <b>(trend)</b><extra></extra>",
         "legendgroup": "Uninstalled",
         "marker": {
          "color": "#EF553B",
          "symbol": "circle"
         },
         "mode": "lines",
         "name": "Uninstalled",
         "showlegend": false,
         "type": "scatter",
         "x": {
          "bdata": "AAAAAAAAAAAAAAAAAAAAAAABAQEBAQEBAQEBAQEBAQECAgICAgICAgICAgICAgMDAwMDAwMDAwMDAwMEBAQEBAQEBAQEBAQEBQUFBQUFBQUFBQU=",
          "dtype": "i1"
         },
         "xaxis": "x",
         "y": {
          "bdata": "VWrmcr9qBkBVauZyv2oGQFVq5nK/agZAVWrmcr9qBkBVauZyv2oGQFVq5nK/agZAVWrmcr9qBkBVauZyv2oGQFVq5nK/agZAVWrmcr9qBkBVauZyv2oGQFVq5nK/agZAVWrmcr9qBkBVauZyv2oGQFVq5nK/agZAVWrmcr9qBkBVauZyv2oGQNUdutLygAVA1R260vKABUDVHbrS8oAFQNUdutLygAVA1R260vKABUDVHbrS8oAFQNUdutLygAVA1R260vKABUDVHbrS8oAFQNUdutLygAVA1R260vKABUDVHbrS8oAFQNUdutLygAVA1R260vKABUDVHbrS8oAFQFXRjTImlwRAVdGNMiaXBEBV0Y0yJpcEQFXRjTImlwRAVdGNMiaXBEBV0Y0yJpcEQFXRjTImlwRAVdGNMiaXBEBV0Y0yJpcEQFXRjTImlwRAVdGNMiaXBEBV0Y0yJpcEQFXRjTImlwRAVdGNMiaXBEDVhGGSWa0DQNWEYZJZrQNA1YRhklmtA0DVhGGSWa0DQNWEYZJZrQNA1YRhklmtA0DVhGGSWa0DQNWEYZJZrQNA1YRhklmtA0DVhGGSWa0DQNWEYZJZrQNA1YRhklmtA0DVhGGSWa0DQFU4NfKMwwJAVTg18ozDAkBVODXyjMMCQFU4NfKMwwJAVTg18ozDAkBVODXyjMMCQFU4NfKMwwJAVTg18ozDAkBVODXyjMMCQFU4NfKMwwJAVTg18ozDAkBVODXyjMMCQFU4NfKMwwJA1usIUsDZAUDW6whSwNkBQNbrCFLA2QFA1usIUsDZAUDW6whSwNkBQNbrCFLA2QFA1usIUsDZAUDW6whSwNkBQNbrCFLA2QFA1usIUsDZAUDW6whSwNkBQA==",
          "dtype": "f8"
         },
         "yaxis": "y"
        }
       ],
       "layout": {
        "legend": {
         "itemsizing": "constant",
         "title": {
          "text": "Status"
         },
         "tracegroupgap": 0
        },
        "template": {
         "data": {
          "bar": [
           {
            "error_x": {
             "color": "#2a3f5f"
            },
            "error_y": {
             "color": "#2a3f5f"
            },
            "marker": {
             "line": {
              "color": "white",
              "width": 0.5
             },
             "pattern": {
              "fillmode": "overlay",
              "size": 10,
              "solidity": 0.2
             }
            },
            "type": "bar"
           }
          ],
          "barpolar": [
           {
            "marker": {
             "line": {
              "color": "white",
              "width": 0.5
             },
             "pattern": {
              "fillmode": "overlay",
              "size": 10,
              "solidity": 0.2
             }
            },
            "type": "barpolar"
           }
          ],
          "carpet": [
           {
            "aaxis": {
             "endlinecolor": "#2a3f5f",
             "gridcolor": "#C8D4E3",
             "linecolor": "#C8D4E3",
             "minorgridcolor": "#C8D4E3",
             "startlinecolor": "#2a3f5f"
            },
            "baxis": {
             "endlinecolor": "#2a3f5f",
             "gridcolor": "#C8D4E3",
             "linecolor": "#C8D4E3",
             "minorgridcolor": "#C8D4E3",
             "startlinecolor": "#2a3f5f"
            },
            "type": "carpet"
           }
          ],
          "choropleth": [
           {
            "colorbar": {
             "outlinewidth": 0,
             "ticks": ""
            },
            "type": "choropleth"
           }
          ],
          "contour": [
           {
            "colorbar": {
             "outlinewidth": 0,
             "ticks": ""
            },
            "colorscale": [
             [
              0,
              "#0d0887"
             ],
             [
              0.1111111111111111,
              "#46039f"
             ],
             [
              0.2222222222222222,
              "#7201a8"
             ],
             [
              0.3333333333333333,
              "#9c179e"
             ],
             [
              0.4444444444444444,
              "#bd3786"
             ],
             [
              0.5555555555555556,
              "#d8576b"
             ],
             [
              0.6666666666666666,
              "#ed7953"
             ],
             [
              0.7777777777777778,
              "#fb9f3a"
             ],
             [
              0.8888888888888888,
              "#fdca26"
             ],
             [
              1,
              "#f0f921"
             ]
            ],
            "type": "contour"
           }
          ],
          "contourcarpet": [
           {
            "colorbar": {
             "outlinewidth": 0,
             "ticks": ""
            },
            "type": "contourcarpet"
           }
          ],
          "heatmap": [
           {
            "colorbar": {
             "outlinewidth": 0,
             "ticks": ""
            },
            "colorscale": [
             [
              0,
              "#0d0887"
             ],
             [
              0.1111111111111111,
              "#46039f"
             ],
             [
              0.2222222222222222,
              "#7201a8"
             ],
             [
              0.3333333333333333,
              "#9c179e"
             ],
             [
              0.4444444444444444,
              "#bd3786"
             ],
             [
              0.5555555555555556,
              "#d8576b"
             ],
             [
              0.6666666666666666,
              "#ed7953"
             ],
             [
              0.7777777777777778,
              "#fb9f3a"
             ],
             [
              0.8888888888888888,
              "#fdca26"
             ],
             [
              1,
              "#f0f921"
             ]
            ],
            "type": "heatmap"
           }
          ],
          "histogram": [
           {
            "marker": {
             "pattern": {
              "fillmode": "overlay",
              "size": 10,
              "solidity": 0.2
             }
            },
            "type": "histogram"
           }
          ],
          "histogram2d": [
           {
            "colorbar": {
             "outlinewidth": 0,
             "ticks": ""
            },
            "colorscale": [
             [
              0,
              "#0d0887"
             ],
             [
              0.1111111111111111,
              "#46039f"
             ],
             [
              0.2222222222222222,
              "#7201a8"
             ],
             [
              0.3333333333333333,
              "#9c179e"
             ],
             [
              0.4444444444444444,
              "#bd3786"
             ],
             [
              0.5555555555555556,
              "#d8576b"
             ],
             [
              0.6666666666666666,
              "#ed7953"
             ],
             [
              0.7777777777777778,
              "#fb9f3a"
             ],
             [
              0.8888888888888888,
              "#fdca26"
             ],
             [
              1,
              "#f0f921"
             ]
            ],
            "type": "histogram2d"
           }
          ],
          "histogram2dcontour": [
           {
            "colorbar": {
             "outlinewidth": 0,
             "ticks": ""
            },
            "colorscale": [
             [
              0,
              "#0d0887"
             ],
             [
              0.1111111111111111,
              "#46039f"
             ],
             [
              0.2222222222222222,
              "#7201a8"
             ],
             [
              0.3333333333333333,
              "#9c179e"
             ],
             [
              0.4444444444444444,
              "#bd3786"
             ],
             [
              0.5555555555555556,
              "#d8576b"
             ],
             [
              0.6666666666666666,
              "#ed7953"
             ],
             [
              0.7777777777777778,
              "#fb9f3a"
             ],
             [
              0.8888888888888888,
              "#fdca26"
             ],
             [
              1,
              "#f0f921"
             ]
            ],
            "type": "histogram2dcontour"
           }
          ],
          "mesh3d": [
           {
            "colorbar": {
             "outlinewidth": 0,
             "ticks": ""
            },
            "type": "mesh3d"
           }
          ],
          "parcoords": [
           {
            "line": {
             "colorbar": {
              "outlinewidth": 0,
              "ticks": ""
             }
            },
            "type": "parcoords"
           }
          ],
          "pie": [
           {
            "automargin": true,
            "type": "pie"
           }
          ],
          "scatter": [
           {
            "fillpattern": {
             "fillmode": "overlay",
             "size": 10,
             "solidity": 0.2
            },
            "type": "scatter"
           }
          ],
          "scatter3d": [
           {
            "line": {
             "colorbar": {
              "outlinewidth": 0,
              "ticks": ""
             }
            },
            "marker": {
             "colorbar": {
              "outlinewidth": 0,
              "ticks": ""
             }
            },
            "type": "scatter3d"
           }
          ],
          "scattercarpet": [
           {
            "marker": {
             "colorbar": {
              "outlinewidth": 0,
              "ticks": ""
             }
            },
            "type": "scattercarpet"
           }
          ],
          "scattergeo": [
           {
            "marker": {
             "colorbar": {
              "outlinewidth": 0,
              "ticks": ""
             }
            },
            "type": "scattergeo"
           }
          ],
          "scattergl": [
           {
            "marker": {
             "colorbar": {
              "outlinewidth": 0,
              "ticks": ""
             }
            },
            "type": "scattergl"
           }
          ],
          "scattermap": [
           {
            "marker": {
             "colorbar": {
              "outlinewidth": 0,
              "ticks": ""
             }
            },
            "type": "scattermap"
           }
          ],
          "scattermapbox": [
           {
            "marker": {
             "colorbar": {
              "outlinewidth": 0,
              "ticks": ""
             }
            },
            "type": "scattermapbox"
           }
          ],
          "scatterpolar": [
           {
            "marker": {
             "colorbar": {
              "outlinewidth": 0,
              "ticks": ""
             }
            },
            "type": "scatterpolar"
           }
          ],
          "scatterpolargl": [
           {
            "marker": {
             "colorbar": {
              "outlinewidth": 0,
              "ticks": ""
             }
            },
            "type": "scatterpolargl"
           }
          ],
          "scatterternary": [
           {
            "marker": {
             "colorbar": {
              "outlinewidth": 0,
              "ticks": ""
             }
            },
            "type": "scatterternary"
           }
          ],
          "surface": [
           {
            "colorbar": {
             "outlinewidth": 0,
             "ticks": ""
            },
            "colorscale": [
             [
              0,
              "#0d0887"
             ],
             [
              0.1111111111111111,
              "#46039f"
             ],
             [
              0.2222222222222222,
              "#7201a8"
             ],
             [
              0.3333333333333333,
              "#9c179e"
             ],
             [
              0.4444444444444444,
              "#bd3786"
             ],
             [
              0.5555555555555556,
              "#d8576b"
             ],
             [
              0.6666666666666666,
              "#ed7953"
             ],
             [
              0.7777777777777778,
              "#fb9f3a"
             ],
             [
              0.8888888888888888,
              "#fdca26"
             ],
             [
              1,
              "#f0f921"
             ]
            ],
            "type": "surface"
           }
          ],
          "table": [
           {
            "cells": {
             "fill": {
              "color": "#EBF0F8"
             },
             "line": {
              "color": "white"
             }
            },
            "header": {
             "fill": {
              "color": "#C8D4E3"
             },
             "line": {
              "color": "white"
             }
            },
            "type": "table"
           }
          ]
         },
         "layout": {
          "annotationdefaults": {
           "arrowcolor": "#2a3f5f",
           "arrowhead": 0,
           "arrowwidth": 1
          },
          "autotypenumbers": "strict",
          "coloraxis": {
           "colorbar": {
            "outlinewidth": 0,
            "ticks": ""
           }
          },
          "colorscale": {
           "diverging": [
            [
             0,
             "#8e0152"
            ],
            [
             0.1,
             "#c51b7d"
            ],
            [
             0.2,
             "#de77ae"
            ],
            [
             0.3,
             "#f1b6da"
            ],
            [
             0.4,
             "#fde0ef"
            ],
            [
             0.5,
             "#f7f7f7"
            ],
            [
             0.6,
             "#e6f5d0"
            ],
            [
             0.7,
             "#b8e186"
            ],
            [
             0.8,
             "#7fbc41"
            ],
            [
             0.9,
             "#4d9221"
            ],
            [
             1,
             "#276419"
            ]
           ],
           "sequential": [
            [
             0,
             "#0d0887"
            ],
            [
             0.1111111111111111,
             "#46039f"
            ],
            [
             0.2222222222222222,
             "#7201a8"
            ],
            [
             0.3333333333333333,
             "#9c179e"
            ],
            [
             0.4444444444444444,
             "#bd3786"
            ],
            [
             0.5555555555555556,
             "#d8576b"
            ],
            [
             0.6666666666666666,
             "#ed7953"
            ],
            [
             0.7777777777777778,
             "#fb9f3a"
            ],
            [
             0.8888888888888888,
             "#fdca26"
            ],
            [
             1,
             "#f0f921"
            ]
           ],
           "sequentialminus": [
            [
             0,
             "#0d0887"
            ],
            [
             0.1111111111111111,
             "#46039f"
            ],
            [
             0.2222222222222222,
             "#7201a8"
            ],
            [
             0.3333333333333333,
             "#9c179e"
            ],
            [
             0.4444444444444444,
             "#bd3786"
            ],
            [
             0.5555555555555556,
             "#d8576b"
            ],
            [
             0.6666666666666666,
             "#ed7953"
            ],
            [
             0.7777777777777778,
             "#fb9f3a"
            ],
            [
             0.8888888888888888,
             "#fdca26"
            ],
            [
             1,
             "#f0f921"
            ]
           ]
          },
          "colorway": [
           "#636efa",
           "#EF553B",
           "#00cc96",
           "#ab63fa",
           "#FFA15A",
           "#19d3f3",
           "#FF6692",
           "#B6E880",
           "#FF97FF",
           "#FECB52"
          ],
          "font": {
           "color": "#2a3f5f"
          },
          "geo": {
           "bgcolor": "white",
           "lakecolor": "white",
           "landcolor": "white",
           "showlakes": true,
           "showland": true,
           "subunitcolor": "#C8D4E3"
          },
          "hoverlabel": {
           "align": "left"
          },
          "hovermode": "closest",
          "mapbox": {
           "style": "light"
          },
          "paper_bgcolor": "white",
          "plot_bgcolor": "white",
          "polar": {
           "angularaxis": {
            "gridcolor": "#EBF0F8",
            "linecolor": "#EBF0F8",
            "ticks": ""
           },
           "bgcolor": "white",
           "radialaxis": {
            "gridcolor": "#EBF0F8",
            "linecolor": "#EBF0F8",
            "ticks": ""
           }
          },
          "scene": {
           "xaxis": {
            "backgroundcolor": "white",
            "gridcolor": "#DFE8F3",
            "gridwidth": 2,
            "linecolor": "#EBF0F8",
            "showbackground": true,
            "ticks": "",
            "zerolinecolor": "#EBF0F8"
           },
           "yaxis": {
            "backgroundcolor": "white",
            "gridcolor": "#DFE8F3",
            "gridwidth": 2,
            "linecolor": "#EBF0F8",
            "showbackground": true,
            "ticks": "",
            "zerolinecolor": "#EBF0F8"
           },
           "zaxis": {
            "backgroundcolor": "white",
            "gridcolor": "#DFE8F3",
            "gridwidth": 2,
            "linecolor": "#EBF0F8",
            "showbackground": true,
            "ticks": "",
            "zerolinecolor": "#EBF0F8"
           }
          },
          "shapedefaults": {
           "line": {
            "color": "#2a3f5f"
           }
          },
          "ternary": {
           "aaxis": {
            "gridcolor": "#DFE8F3",
            "linecolor": "#A2B1C6",
            "ticks": ""
           },
           "baxis": {
            "gridcolor": "#DFE8F3",
            "linecolor": "#A2B1C6",
            "ticks": ""
           },
           "bgcolor": "white",
           "caxis": {
            "gridcolor": "#DFE8F3",
            "linecolor": "#A2B1C6",
            "ticks": ""
           }
          },
          "title": {
           "x": 0.05
          },
          "xaxis": {
           "automargin": true,
           "gridcolor": "#EBF0F8",
           "linecolor": "#EBF0F8",
           "ticks": "",
           "title": {
            "standoff": 15
           },
           "zerolinecolor": "#EBF0F8",
           "zerolinewidth": 2
          },
          "yaxis": {
           "automargin": true,
           "gridcolor": "#EBF0F8",
           "linecolor": "#EBF0F8",
           "ticks": "",
           "title": {
            "standoff": 15
           },
           "zerolinecolor": "#EBF0F8",
           "zerolinewidth": 2
          }
         }
        },
        "title": {
         "text": "Relation between Spending Ratings and Screentime"
        },
        "xaxis": {
         "anchor": "y",
         "domain": [
          0,
          1
         ],
         "title": {
          "text": "Average Screen Time"
         }
        },
        "yaxis": {
         "anchor": "x",
         "domain": [
          0,
          1
         ],
         "title": {
          "text": "Ratings"
         }
        }
       }
      },
      "image/png": "[encoded data removed]"
     },
     "metadata": {},
     "output_type": "display_data"
    }
   ],
   "source": [
    "figure = px.scatter(data_frame = df,\n",
    "                   x='Average Screen Time',\n",
    "                   y='Ratings',\n",
    "                   size='Ratings',\n",
    "                   color='Status',\n",
    "                   title='Relation between Spending Ratings and Screentime',\n",
    "                   trendline='ols')\n",
    "figure.show()"
   ]
  },
  {
   "cell_type": "markdown",
   "id": "a339acd4-83a7-433f-afbb-3f793e15a4b6",
   "metadata": {},
   "source": [
    "# App User Segmentation to Find Retained and Lost Users"
   ]
  },
  {
   "cell_type": "code",
   "execution_count": 18,
   "id": "8ab09118-cbca-4ed6-8938-019fe7e76f1f",
   "metadata": {},
   "outputs": [],
   "source": [
    "clustering_data = df[[\"Average Screen Time\",\n",
    "                     \"Ratings\", \"Last Visited Minutes\",\n",
    "                     \"Average Spent on App (INR)\",\n",
    "                     \"New Password Request\"]]"
   ]
  },
  {
   "cell_type": "code",
   "execution_count": 19,
   "id": "8136830c-6ea9-4e3f-80ac-9b3049de896a",
   "metadata": {},
   "outputs": [
    {
     "name": "stdout",
     "output_type": "stream",
     "text": [
      "   userid  Average Screen Time  Average Spent on App (INR)  Left Review  \\\n",
      "0    1001                   17                         634            1   \n",
      "1    1002                    0                          54            0   \n",
      "2    1003                   37                         207            0   \n",
      "3    1004                   32                         445            1   \n",
      "4    1005                   45                         427            1   \n",
      "5    1006                   28                         599            0   \n",
      "6    1007                   49                         887            1   \n",
      "7    1008                    8                          31            0   \n",
      "8    1009                   28                         741            1   \n",
      "9    1010                   28                         524            1   \n",
      "\n",
      "   Ratings  New Password Request  Last Visited Minutes       Status  Segments  \n",
      "0        9                     7                  2990    Installed         2  \n",
      "1        4                     8                 24008  Uninstalled         1  \n",
      "2        8                     5                   971    Installed         2  \n",
      "3        6                     2                   799    Installed         2  \n",
      "4        5                     6                  3668    Installed         0  \n",
      "5        9                     4                  2878    Installed         2  \n",
      "6        9                     6                  4481    Installed         0  \n",
      "7        2                     1                  1715    Installed         2  \n",
      "8        8                     2                   801    Installed         2  \n",
      "9        8                     4                  4621    Installed         0  \n"
     ]
    }
   ],
   "source": [
    "from sklearn.preprocessing import MinMaxScaler\n",
    "for i in clustering_data.columns:\n",
    "    MinMaxScaler(i)\n",
    "\n",
    "from sklearn.cluster import KMeans\n",
    "kmeans = KMeans(n_clusters=3)\n",
    "clusters = kmeans.fit_predict(clustering_data)\n",
    "df['Segments'] = clusters\n",
    "\n",
    "print(df.head(10))"
   ]
  },
  {
   "cell_type": "code",
   "execution_count": 21,
   "id": "85ba71e5-3215-4910-a7fc-d7563db4013e",
   "metadata": {},
   "outputs": [
    {
     "name": "stdout",
     "output_type": "stream",
     "text": [
      "Segments\n",
      "2    601\n",
      "0    332\n",
      "1     66\n",
      "Name: count, dtype: int64\n"
     ]
    }
   ],
   "source": [
    "print(df['Segments'].value_counts())"
   ]
  },
  {
   "cell_type": "markdown",
   "id": "b6470d62-e51b-4241-900f-80fef83c67fd",
   "metadata": {},
   "source": [
    "# Now let's rename the segments for a better understanding:"
   ]
  },
  {
   "cell_type": "code",
   "execution_count": 22,
   "id": "a30b0199-4c7e-483e-8599-abbcbccc6c52",
   "metadata": {},
   "outputs": [],
   "source": [
    "df['Segments'] = df['Segments'].map({0: \"Retained\", 1:\n",
    "    \"churu\", 2: \"Needs Attention\"})"
   ]
  },
  {
   "cell_type": "code",
   "execution_count": 27,
   "id": "a4be62f2-3597-4c53-8d91-7620a063fda2",
   "metadata": {},
   "outputs": [
    {
     "data": {
      "application/vnd.plotly.v1+json": {
       "config": {
        "plotlyServerURL": "https://plot.ly"
       },
       "data": [
        {
         "hovertemplate": "Last Visited Minutes: %{x} <br>Average Spent on App (INR): %{y}",
         "marker": {
          "line": {
           "width": 1
          },
          "size": 6
         },
         "mode": "markers",
         "name": "Needs Attention",
         "type": "scatter",
         "x": {
          "bdata": "rgvLAx8DPguzBiEDDQUjDCMKQQKVCzQMhA2FB3cCggtOCxkEowHJDHwE+ApoC/8CeQmPDQsKCAIRBq0EhAJQDUkFTAULDRsKUg1pA98GTggaA7MJNwcKBcUB3wEmAsUFrgYuBN0GfQPhCAUC3AxhAZELFAueApEJDgfJBSUHZAjCCtcC5QBZC0gEwAvzAyAK6wU0CWMIogywAbMKwwNTBcgHfA0ECSEM5AjOBtEC7Qw3A/AMmgRkDQsGWwxDA/kH7QT9ADkN2AdoAakMrAJZCzIJrQh/Ci8JaQNQApEFtQH/BlAKKQKqBKEE8wRpAtcGPAWjC3EFcASFCRoFywCZDOQH1wgwCm4CAQNODNIG4gmoC/UKbgJQB5cBogKxBroLIQv2A0cInQEXBjAE5gRFCcEMWwMaB/IA3AgDBPAD8wUGCW8FgAnfA98MLAWfCdEK2gYkB7kLwAazBfAG7AhHCBELEgS2C2kDUQquA9wASAyhAt8B6QboBOMM9gUQATwDIAX2CG4NNQdmAjcMowPwA9wKuAfCAY4I8ggeAuQG6QtECoACZQz8AGoGWwSJC/cIqgH+A/sJQQJzCMoC5AwVA14D0AZ2CK4BuQKYB/IJegYMC5AB/gZVC34L0AqGBf8GpwOnC8kDawxBBzELWwdvBJ0HqAKLAccDJwxKAjIGnAoGCdUHPAJZA88M1gfeAAUGJAU2CGAFSwhuB0gIGQT7AYoDigIyB9kJhAanAhAGLQF0CzsM8gZ5CqwIPQaIBZoFKwoMAtECuAOMCEANtQOBDX8HPAopCrwDKgr0AQkKFQqUCC4B0gEOBOIAPQR3Bh8LdgsMDQkI+wufA4wFcAdDAwYE+AKkCYkMfwmeA/sEpgzjA/gJjgHEBtkFRQXsC7cIrgjHBooEtghNB70HeANkAcwAEQfaBTALHAJFCpgExgkICnsBOAI7B6sBvQcABncJVgqlChEB/QX2AwYD8wTGAZkJAA3KB2MB9AezBE8HhgJ7BYEFLwftA9YF7gMrC1AIjgOOAqkCVw1JCn8MIwIABFEBwwrCAvUMgAvMClQLGgswDb4EtwoqAX8F4wanBiYHoQqpBO8IrgVCA1oIlgyYCDcLxQaYCEwKvAtSDOUCZQpgBz8DSwLAB3kGrwZMBdIC0ASiCIwEHgzRB9wJCgSDBnAKaQhyApQB4goFAbAFyQCiBf8JYQnaAiEBXQMwB4QNYw0JAjIKZQloBwINsQvCAngI2AxCBvEKEAtsB90HiAWUAvoIdwgWBlICegyYC4wBsguLA3ULOggsDUMLTQamBz4HiQSvBVcMfgRoCRMGIAOhBZIJdAe+CWgIuQNgCP4I5wIhBoIH2wS/C1QIKQevC4cFMQkDCiMB0wcACKsEOg3aBasBCghTA8UFZAwiDZ4CPQm6DDkBXgV9CJUEkQZYAlgIHAwWDIoIvgbpBrcLUwT3BCIEDQjhB5gE6gENBKgDNAm2CQQLIQF1DUEGIQNQAjgG/AAODDECYANVB5QBYwl8Da8BfQN0CPwD4gnJA8kHNAwADBMLVQQFCyMHAAK6BckC4QX6BowGAAWwCBkFiQP0AgIDOAhwA3cLSQcvBZAHbA0=",
          "dtype": "i2"
         },
         "y": {
          "bdata": "egLPAL0BVwIfAOUCsAJNA/sAqQAIA1UB+gDHAwYDhQJJAMwBUAMuAHIApAPzAJoBzwBtAs0BIAN9AI4CawMHAgQBjwMDA9YCxACQA8oA6gDGA2IA0wJxA1oAaAEKAZcD0AO0AUABEQAoAvIAwAH8AKwDEAIvAkoAJAOXAkMAcwBVA3sBzgElAR8AYgHLA/8AJgGqAjsAcwJJAAUA9AFsAdABCgBXADoCmwJgAOUB5AIbACUC2wBdA98D0gJUAFoAqgNGAmAArwF1AlsAhQPEAJcA7QGHAEcDdwG4An4DCgIuAJUC7gJlAEkAPAHiAesC3gMhANsDfAPpARcBcgOiAikDKAFeAKQAkgCWAEQDvQJoAuYDKgFYAY8BCAIAAM4DYQOWAvoAFgJbAjEDUwKoA/IAHwCIAUgBPANHA7wAlQHLAvMCigA2Ad0B/ADZAK0B/gBQAAgADgEtAzoD/wEJAFwDhwCgAW0DaAGNAz8ALAEdAW0CmADmAZEBCgNfAN4DpwIZAOEDawA8AO0CqAHYAxQA3AMFAa8AxgDhAV8D2ABFAGUBZgKUAl4BSQNZAPsCRABKAVQBQAPgA1EDSQC+AKADzgLgA6UASwBGAV0BzwJVAh4B8gJYAAADngDZArwAYQIcA18AZwMKAGAC+gHRA/kCxAIWAgQA9gFDAP4ALgIBAm0ChgObAXkDWwEiAioDRABBAOEBOAI/AVUA5gE2ApYAbwLbAHsBdwGHAiwAewLxAFoDswExAdQAJQO1AswBEQF2A94B/gEOAMoDHAEnAH0AzwB5AkAA/wJLADUAbgEPANYCNwJ8Aj0D7ALiAZIBTQJwAz0AnQLgAE0DnwEHALsAbANPABICqwGoANEBAgDaAb8CmwBVALICSwG5AVIBmwHKA3gAnwM0AkcA7AD/AX4C5wJzAVsAKAAwANMBPwOoAx0AewESA8IAqgBfAl0AOwJJAQYCSAGaAd8CowFCApcAfgOKAcsB1gLLAQYASQOnAOQATwNEAE4AEwHzAUAAygMEAiAD9AIYAWICTwAcASsCBQJJAKoAzwI0AA0ATQBVAKcBFQIdA9kCWAJLALQAagI3ABACCwNfAzIBcwJWA1EDVwDQAFQA4QNhAicBvgM1AEUAagMsAXQAOQNAAIcDMAJpA8kAoQJ8A+MCZQFpAJoDagCoA94CMQEkA4ICEwPrAmUBGgCyA0kDtgNCA6sApANXAN0CzgEgADMAwQGoAUYBdwIUAU8AkwNvAa0AewCmAg0BcwIwA1EBeAJPAJMCRAEuAsQBYAGqA+8COAFEAEADBgIKAV4BNAKDAdQCMwFwAkMC9gDqAdwCNwGXAgQCjgFdAEUAaAIyAB4BrAL2Am0BZwKgAwUB/AL/AFEATAEGAlsCZQKIAKoCQwFVAkAA+wCVA10AxANvAGsC8QAPA4gA+wJKAhwAuQA/AYIDLwF1A50DEwC/Ay4BOwOYAxEBoQA6ACMByQFGA3ECAQM8AxUBTwNtAy4D8wJiAP0C5APPAwIB1wNkA+IA7wA8AygAOQEeA0wA0gFSAysDQgGSAOgCUwCFAakDOAJlAPUBCQNnARcAHwBHAWIAqgM9APkCSQA=",
          "dtype": "i2"
         }
        },
        {
         "hovertemplate": "Last Visited Minutes: %{x} <br>Average Spent on App (INR): %{y}",
         "marker": {
          "line": {
           "width": 1
          },
          "size": 6
         },
         "mode": "markers",
         "name": "churu",
         "type": "scatter",
         "x": {
          "bdata": "yF0AAEeUAAC2wAAAaJgAAON2AACknwAAJWcAAHWkAAC5ggAAg6MAAINZAACObQAAm54AAOx7AAC9ZAAA8F0AABlzAACCqgAAWJcAAKWXAAAzwgAAD1sAAFBgAAB1jgAAaFMAABuxAABTuAAAIMIAAFNWAADxmAAA9WkAAMKTAAAufgAATZIAADS5AADOfAAAm7MAADmWAADRsAAAqmYAAH6OAADqtgAAYpIAAPOsAABTrwAAeE8AABhgAADcYAAAMG4AAFuGAADBXAAACX4AADaYAABLrAAAhFYAAMCiAACcewAAjYYAAP19AACpawAATmkAAHWPAACcgwAA+n8AAKayAABGmgAA",
          "dtype": "i4"
         },
         "y": {
          "bdata": "NmFdIkMaMF4ISxcsKl9TLmQlM10QChFbICcfXSoZMmE6D0tCERUZPhljJBpgMSpYLQEKXFcGBAUAVGEeMR1OKkkr",
          "dtype": "i1"
         }
        },
        {
         "hovertemplate": "Last Visited Minutes: %{x} <br>Average Spent on App (INR): %{y}",
         "marker": {
          "line": {
           "width": 1
          },
          "size": 6
         },
         "mode": "markers",
         "name": "Retained",
         "type": "scatter",
         "x": {
          "bdata": "VA6BEQ0SdhAwI9kPXhJdENwPsBIAEEIOCxC3DX4RoQ33DWASIxB/EwcPYhONEN4RzhChEewPMRNMDrINohASEdgOtBoCEcYSIA8TNI4PBQ72EdkNuw9VMa4Q8BK7EjwPyQ1vE6QPDQ/nDZkO1hHSEssQEBKXDrNL2w/uD806GhE6DgoP3Q1FD+cO/A9kEWEPjQ8gE1QS/w7qDSgQDUlNE4YQuxGtELYOOhBPD0YQ2g/rE+ZCFRLTFl0P6g8qE1QQ5A30EE8O4hHNEaES0TVMEskQ+BAVE7gPOxCsDjIP0hLPD2ESi0BOS8cRlhF8E64Q5REnEn0TrhHxGfAPPxhWDpcQLxOUELgT4w9WE78N5BAdE9wPbQ8ADyURmQ6xDqEN+hFfD2YQRBAbE58PZg/MEn4S+hAhEyYS1DraEqwOJRI5ERQOyQ5eEQkQXRMqDiMSARAAEP0RdhF6Dx0Sqg6SErkPThL9PzQSNhINEw0TSROoDf8SbBKwEBkOiBG1EqoQKz5iEuEPuQ4ODxAOXg6LDqwRpw94MjwOgy9KEdUS2BHlDxISgQ7dDpEQUBJTD34QPhOvDskP2RI1SJARCw59EfsSSxCQD0ATFg4YDmsPQBBxEVE+3BGaEnIQ1RCiTXcPIxNfD+0hXQ5wEC8RdRFpFfwO7xFvE+0S5w2LD0oOsRJOE68OTQ/PEa0PVBBBJxsOTBwUDgkS5Q/bEBMPBBONEm0OZhFPEIInXUg1EtENUBD+M1IPzSrBD18OjQ8uPUITexkgD70OWxNrEkwRuxGUD7kRFRGgDyoSdg51D6EOXRBmEPMNsw+9EaoOCh5+D4QQwz7EPxEQXSogPvMSqhGwD2YSKA7+EekQ6BChDbsPIRLtDuAOMg7HDw==",
          "dtype": "i2"
         },
         "y": {
          "bdata": "qwF3AwwC0gExAOIBsAKQAcMA0APeAEYAYAAHApUBjAPWAG4AnQB5AwAC4gIQAisDjgGAAc4D3gDeAz0AHwJCACoANAA+A90C+wIUAHUC/AFdAMwAWQINACYCDACZAB8DkgGiAjQCRwAKAUYDSAAMAGMDHgMkAFwAegLUAEUA0QJ0AaACzQB6AfABEwDrAeUB+gEsAegBTQF6AlYCTQCBAVEAaQFfA+IAzwE+A0UDQAFPAF8AmwMmAGkC4gMHAowB4gBlA18DngAwAtECZADsAd4AFANEAicD4wLAAlcALwJvAqgDLwAcAEEDnwDmAu4A4AKtAKIDmAAlAIQDWQBGABgC3QJHAAkAZgLZAVAAPwAPAwkAWwJ5Al0ApwGyAUsAEgMnAgsBYQBmANUDEwFwAXABawJTAN8BUQAzA/IBSABbA0EDLACmAj8BoQAEAvgBDQB1AxoAQQEtA2MBvQK7AO8AMwE7ABkCRANaAKQAgADoAlIDLQCEAmsAdwP3AQkAVACoAZQB7wINAX4DCAJhA6EAGwIuAGAAOAAwAG0D+QBFA1UCiwGIA30AAAOwAkQC5AFxAcoCmwBLADcBmwAHADMDCwL8AYcCJQCnAAQDBACoAQ0AGgFNAzcC8QIkALYBVgB9AzsA/gHJA6UC+AEGAOcAHQOxAy0AWQO7AyoBrAB8A8kAYwEJAD8DkQInAFYBPAA8AiwBSwEaAMsB3wGFA2MDJwEwAlwAXQB6A8YBLQJXAOYBQQA4A1oANwAMAOEDAQAPAIkDJgFJAFgDzQJUAFgDHgCHAZAClgKSATMANQH9AOsCVQACAJwAVAATAH0BAwBfAF8AFgAfAMICMANjA8YDkAIBAdoA3wAHAxsDNAJ8AcEDSAI2AA==",
          "dtype": "i2"
         }
        }
       ],
       "layout": {
        "autosize": true,
        "height": 800,
        "scene": {
         "xaxis": {
          "title": {
           "font": {
            "color": "black"
           },
           "text": "Last Visited Minutes"
          }
         },
         "yaxis": {
          "title": {
           "font": {
            "color": "black"
           },
           "text": "Average Spent on App (INR)"
          }
         }
        },
        "showlegend": true,
        "template": {
         "data": {
          "bar": [
           {
            "error_x": {
             "color": "#2a3f5f"
            },
            "error_y": {
             "color": "#2a3f5f"
            },
            "marker": {
             "line": {
              "color": "white",
              "width": 0.5
             },
             "pattern": {
              "fillmode": "overlay",
              "size": 10,
              "solidity": 0.2
             }
            },
            "type": "bar"
           }
          ],
          "barpolar": [
           {
            "marker": {
             "line": {
              "color": "white",
              "width": 0.5
             },
             "pattern": {
              "fillmode": "overlay",
              "size": 10,
              "solidity": 0.2
             }
            },
            "type": "barpolar"
           }
          ],
          "carpet": [
           {
            "aaxis": {
             "endlinecolor": "#2a3f5f",
             "gridcolor": "#C8D4E3",
             "linecolor": "#C8D4E3",
             "minorgridcolor": "#C8D4E3",
             "startlinecolor": "#2a3f5f"
            },
            "baxis": {
             "endlinecolor": "#2a3f5f",
             "gridcolor": "#C8D4E3",
             "linecolor": "#C8D4E3",
             "minorgridcolor": "#C8D4E3",
             "startlinecolor": "#2a3f5f"
            },
            "type": "carpet"
           }
          ],
          "choropleth": [
           {
            "colorbar": {
             "outlinewidth": 0,
             "ticks": ""
            },
            "type": "choropleth"
           }
          ],
          "contour": [
           {
            "colorbar": {
             "outlinewidth": 0,
             "ticks": ""
            },
            "colorscale": [
             [
              0,
              "#0d0887"
             ],
             [
              0.1111111111111111,
              "#46039f"
             ],
             [
              0.2222222222222222,
              "#7201a8"
             ],
             [
              0.3333333333333333,
              "#9c179e"
             ],
             [
              0.4444444444444444,
              "#bd3786"
             ],
             [
              0.5555555555555556,
              "#d8576b"
             ],
             [
              0.6666666666666666,
              "#ed7953"
             ],
             [
              0.7777777777777778,
              "#fb9f3a"
             ],
             [
              0.8888888888888888,
              "#fdca26"
             ],
             [
              1,
              "#f0f921"
             ]
            ],
            "type": "contour"
           }
          ],
          "contourcarpet": [
           {
            "colorbar": {
             "outlinewidth": 0,
             "ticks": ""
            },
            "type": "contourcarpet"
           }
          ],
          "heatmap": [
           {
            "colorbar": {
             "outlinewidth": 0,
             "ticks": ""
            },
            "colorscale": [
             [
              0,
              "#0d0887"
             ],
             [
              0.1111111111111111,
              "#46039f"
             ],
             [
              0.2222222222222222,
              "#7201a8"
             ],
             [
              0.3333333333333333,
              "#9c179e"
             ],
             [
              0.4444444444444444,
              "#bd3786"
             ],
             [
              0.5555555555555556,
              "#d8576b"
             ],
             [
              0.6666666666666666,
              "#ed7953"
             ],
             [
              0.7777777777777778,
              "#fb9f3a"
             ],
             [
              0.8888888888888888,
              "#fdca26"
             ],
             [
              1,
              "#f0f921"
             ]
            ],
            "type": "heatmap"
           }
          ],
          "histogram": [
           {
            "marker": {
             "pattern": {
              "fillmode": "overlay",
              "size": 10,
              "solidity": 0.2
             }
            },
            "type": "histogram"
           }
          ],
          "histogram2d": [
           {
            "colorbar": {
             "outlinewidth": 0,
             "ticks": ""
            },
            "colorscale": [
             [
              0,
              "#0d0887"
             ],
             [
              0.1111111111111111,
              "#46039f"
             ],
             [
              0.2222222222222222,
              "#7201a8"
             ],
             [
              0.3333333333333333,
              "#9c179e"
             ],
             [
              0.4444444444444444,
              "#bd3786"
             ],
             [
              0.5555555555555556,
              "#d8576b"
             ],
             [
              0.6666666666666666,
              "#ed7953"
             ],
             [
              0.7777777777777778,
              "#fb9f3a"
             ],
             [
              0.8888888888888888,
              "#fdca26"
             ],
             [
              1,
              "#f0f921"
             ]
            ],
            "type": "histogram2d"
           }
          ],
          "histogram2dcontour": [
           {
            "colorbar": {
             "outlinewidth": 0,
             "ticks": ""
            },
            "colorscale": [
             [
              0,
              "#0d0887"
             ],
             [
              0.1111111111111111,
              "#46039f"
             ],
             [
              0.2222222222222222,
              "#7201a8"
             ],
             [
              0.3333333333333333,
              "#9c179e"
             ],
             [
              0.4444444444444444,
              "#bd3786"
             ],
             [
              0.5555555555555556,
              "#d8576b"
             ],
             [
              0.6666666666666666,
              "#ed7953"
             ],
             [
              0.7777777777777778,
              "#fb9f3a"
             ],
             [
              0.8888888888888888,
              "#fdca26"
             ],
             [
              1,
              "#f0f921"
             ]
            ],
            "type": "histogram2dcontour"
           }
          ],
          "mesh3d": [
           {
            "colorbar": {
             "outlinewidth": 0,
             "ticks": ""
            },
            "type": "mesh3d"
           }
          ],
          "parcoords": [
           {
            "line": {
             "colorbar": {
              "outlinewidth": 0,
              "ticks": ""
             }
            },
            "type": "parcoords"
           }
          ],
          "pie": [
           {
            "automargin": true,
            "type": "pie"
           }
          ],
          "scatter": [
           {
            "fillpattern": {
             "fillmode": "overlay",
             "size": 10,
             "solidity": 0.2
            },
            "type": "scatter"
           }
          ],
          "scatter3d": [
           {
            "line": {
             "colorbar": {
              "outlinewidth": 0,
              "ticks": ""
             }
            },
            "marker": {
             "colorbar": {
              "outlinewidth": 0,
              "ticks": ""
             }
            },
            "type": "scatter3d"
           }
          ],
          "scattercarpet": [
           {
            "marker": {
             "colorbar": {
              "outlinewidth": 0,
              "ticks": ""
             }
            },
            "type": "scattercarpet"
           }
          ],
          "scattergeo": [
           {
            "marker": {
             "colorbar": {
              "outlinewidth": 0,
              "ticks": ""
             }
            },
            "type": "scattergeo"
           }
          ],
          "scattergl": [
           {
            "marker": {
             "colorbar": {
              "outlinewidth": 0,
              "ticks": ""
             }
            },
            "type": "scattergl"
           }
          ],
          "scattermap": [
           {
            "marker": {
             "colorbar": {
              "outlinewidth": 0,
              "ticks": ""
             }
            },
            "type": "scattermap"
           }
          ],
          "scattermapbox": [
           {
            "marker": {
             "colorbar": {
              "outlinewidth": 0,
              "ticks": ""
             }
            },
            "type": "scattermapbox"
           }
          ],
          "scatterpolar": [
           {
            "marker": {
             "colorbar": {
              "outlinewidth": 0,
              "ticks": ""
             }
            },
            "type": "scatterpolar"
           }
          ],
          "scatterpolargl": [
           {
            "marker": {
             "colorbar": {
              "outlinewidth": 0,
              "ticks": ""
             }
            },
            "type": "scatterpolargl"
           }
          ],
          "scatterternary": [
           {
            "marker": {
             "colorbar": {
              "outlinewidth": 0,
              "ticks": ""
             }
            },
            "type": "scatterternary"
           }
          ],
          "surface": [
           {
            "colorbar": {
             "outlinewidth": 0,
             "ticks": ""
            },
            "colorscale": [
             [
              0,
              "#0d0887"
             ],
             [
              0.1111111111111111,
              "#46039f"
             ],
             [
              0.2222222222222222,
              "#7201a8"
             ],
             [
              0.3333333333333333,
              "#9c179e"
             ],
             [
              0.4444444444444444,
              "#bd3786"
             ],
             [
              0.5555555555555556,
              "#d8576b"
             ],
             [
              0.6666666666666666,
              "#ed7953"
             ],
             [
              0.7777777777777778,
              "#fb9f3a"
             ],
             [
              0.8888888888888888,
              "#fdca26"
             ],
             [
              1,
              "#f0f921"
             ]
            ],
            "type": "surface"
           }
          ],
          "table": [
           {
            "cells": {
             "fill": {
              "color": "#EBF0F8"
             },
             "line": {
              "color": "white"
             }
            },
            "header": {
             "fill": {
              "color": "#C8D4E3"
             },
             "line": {
              "color": "white"
             }
            },
            "type": "table"
           }
          ]
         },
         "layout": {
          "annotationdefaults": {
           "arrowcolor": "#2a3f5f",
           "arrowhead": 0,
           "arrowwidth": 1
          },
          "autotypenumbers": "strict",
          "coloraxis": {
           "colorbar": {
            "outlinewidth": 0,
            "ticks": ""
           }
          },
          "colorscale": {
           "diverging": [
            [
             0,
             "#8e0152"
            ],
            [
             0.1,
             "#c51b7d"
            ],
            [
             0.2,
             "#de77ae"
            ],
            [
             0.3,
             "#f1b6da"
            ],
            [
             0.4,
             "#fde0ef"
            ],
            [
             0.5,
             "#f7f7f7"
            ],
            [
             0.6,
             "#e6f5d0"
            ],
            [
             0.7,
             "#b8e186"
            ],
            [
             0.8,
             "#7fbc41"
            ],
            [
             0.9,
             "#4d9221"
            ],
            [
             1,
             "#276419"
            ]
           ],
           "sequential": [
            [
             0,
             "#0d0887"
            ],
            [
             0.1111111111111111,
             "#46039f"
            ],
            [
             0.2222222222222222,
             "#7201a8"
            ],
            [
             0.3333333333333333,
             "#9c179e"
            ],
            [
             0.4444444444444444,
             "#bd3786"
            ],
            [
             0.5555555555555556,
             "#d8576b"
            ],
            [
             0.6666666666666666,
             "#ed7953"
            ],
            [
             0.7777777777777778,
             "#fb9f3a"
            ],
            [
             0.8888888888888888,
             "#fdca26"
            ],
            [
             1,
             "#f0f921"
            ]
           ],
           "sequentialminus": [
            [
             0,
             "#0d0887"
            ],
            [
             0.1111111111111111,
             "#46039f"
            ],
            [
             0.2222222222222222,
             "#7201a8"
            ],
            [
             0.3333333333333333,
             "#9c179e"
            ],
            [
             0.4444444444444444,
             "#bd3786"
            ],
            [
             0.5555555555555556,
             "#d8576b"
            ],
            [
             0.6666666666666666,
             "#ed7953"
            ],
            [
             0.7777777777777778,
             "#fb9f3a"
            ],
            [
             0.8888888888888888,
             "#fdca26"
            ],
            [
             1,
             "#f0f921"
            ]
           ]
          },
          "colorway": [
           "#636efa",
           "#EF553B",
           "#00cc96",
           "#ab63fa",
           "#FFA15A",
           "#19d3f3",
           "#FF6692",
           "#B6E880",
           "#FF97FF",
           "#FECB52"
          ],
          "font": {
           "color": "#2a3f5f"
          },
          "geo": {
           "bgcolor": "white",
           "lakecolor": "white",
           "landcolor": "white",
           "showlakes": true,
           "showland": true,
           "subunitcolor": "#C8D4E3"
          },
          "hoverlabel": {
           "align": "left"
          },
          "hovermode": "closest",
          "mapbox": {
           "style": "light"
          },
          "paper_bgcolor": "white",
          "plot_bgcolor": "white",
          "polar": {
           "angularaxis": {
            "gridcolor": "#EBF0F8",
            "linecolor": "#EBF0F8",
            "ticks": ""
           },
           "bgcolor": "white",
           "radialaxis": {
            "gridcolor": "#EBF0F8",
            "linecolor": "#EBF0F8",
            "ticks": ""
           }
          },
          "scene": {
           "xaxis": {
            "backgroundcolor": "white",
            "gridcolor": "#DFE8F3",
            "gridwidth": 2,
            "linecolor": "#EBF0F8",
            "showbackground": true,
            "ticks": "",
            "zerolinecolor": "#EBF0F8"
           },
           "yaxis": {
            "backgroundcolor": "white",
            "gridcolor": "#DFE8F3",
            "gridwidth": 2,
            "linecolor": "#EBF0F8",
            "showbackground": true,
            "ticks": "",
            "zerolinecolor": "#EBF0F8"
           },
           "zaxis": {
            "backgroundcolor": "white",
            "gridcolor": "#DFE8F3",
            "gridwidth": 2,
            "linecolor": "#EBF0F8",
            "showbackground": true,
            "ticks": "",
            "zerolinecolor": "#EBF0F8"
           }
          },
          "shapedefaults": {
           "line": {
            "color": "#2a3f5f"
           }
          },
          "ternary": {
           "aaxis": {
            "gridcolor": "#DFE8F3",
            "linecolor": "#A2B1C6",
            "ticks": ""
           },
           "baxis": {
            "gridcolor": "#DFE8F3",
            "linecolor": "#A2B1C6",
            "ticks": ""
           },
           "bgcolor": "white",
           "caxis": {
            "gridcolor": "#DFE8F3",
            "linecolor": "#A2B1C6",
            "ticks": ""
           }
          },
          "title": {
           "x": 0.05
          },
          "xaxis": {
           "automargin": true,
           "gridcolor": "#EBF0F8",
           "linecolor": "#EBF0F8",
           "ticks": "",
           "title": {
            "standoff": 15
           },
           "zerolinecolor": "#EBF0F8",
           "zerolinewidth": 2
          },
          "yaxis": {
           "automargin": true,
           "gridcolor": "#EBF0F8",
           "linecolor": "#EBF0F8",
           "ticks": "",
           "title": {
            "standoff": 15
           },
           "zerolinecolor": "#EBF0F8",
           "zerolinewidth": 2
          }
         }
        },
        "width": 800,
        "xaxis": {
         "title": {
          "text": "Last Visited Minutes"
         }
        },
        "yaxis": {
         "title": {
          "text": "Average Spent on App (INR)"
         }
        }
       }
      },
      "image/png": "[encoded data removed]"
     },
     "metadata": {},
     "output_type": "display_data"
    }
   ],
   "source": [
    "PLOT = go.Figure()\n",
    "for i in list(df[\"Segments\"].unique()):\n",
    "    \n",
    "    PLOT.add_trace(go.Scatter(x = df[df[\"Segments\"]== i]['Last Visited Minutes'],\n",
    "                             y = df[df[\"Segments\"]==i]['Average Spent on App (INR)'],\n",
    "                             mode = 'markers',marker_size = 6, marker_line_width = 1,\n",
    "                             name = str(i)))\n",
    "\n",
    "PLOT. update_traces(hovertemplate='Last Visited Minutes: %{x} <br>Average Spent on App (INR): %{y}')\n",
    "\n",
    "PLOT.update_layout(width = 800, height = 800, autosize = True, showlegend = True,\n",
    "                    yaxis_title = 'Average Spent on App (INR)',\n",
    "                    xaxis_title = 'Last Visited Minutes',\n",
    "                    scene = dict(xaxis=dict(title = 'Last Visited Minutes', title_font_color = 'black'),\n",
    "                                yaxis=dict(title = 'Average Spent on App (INR)',\n",
    "                                title_font_color = 'black'))) "
   ]
  },
  {
   "cell_type": "code",
   "execution_count": null,
   "id": "7b1c2764-09b3-4f3f-9b83-dd5a0882a814",
   "metadata": {},
   "outputs": [],
   "source": []
  }
 ],
 "metadata": {
  "kernelspec": {
   "display_name": "Python 3 (ipykernel)",
   "language": "python",
   "name": "python3"
  },
  "language_info": {
   "codemirror_mode": {
    "name": "ipython",
    "version": 3
   },
   "file_extension": ".py",
   "mimetype": "text/x-python",
   "name": "python",
   "nbconvert_exporter": "python",
   "pygments_lexer": "ipython3",
   "version": "3.13.3"
  }
 },
 "nbformat": 4,
 "nbformat_minor": 5
}
